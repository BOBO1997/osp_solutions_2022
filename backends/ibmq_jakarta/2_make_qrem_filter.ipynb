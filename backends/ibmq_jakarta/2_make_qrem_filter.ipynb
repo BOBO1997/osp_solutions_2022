{
 "cells": [
  {
   "cell_type": "code",
   "execution_count": 1,
   "id": "a09e57bd",
   "metadata": {},
   "outputs": [
    {
     "data": {
      "text/plain": [
       "'/Users/yangbo/Documents/projects/qamp_gse/test/ipynb/gse_vqe/backends/ibmq_jakarta'"
      ]
     },
     "execution_count": 1,
     "metadata": {},
     "output_type": "execute_result"
    }
   ],
   "source": [
    "%pwd"
   ]
  },
  {
   "cell_type": "markdown",
   "id": "279d117c",
   "metadata": {},
   "source": [
    "# COMMON --- LIBRARIES AND UTILS"
   ]
  },
  {
   "cell_type": "code",
   "execution_count": 2,
   "id": "fed6f97c",
   "metadata": {},
   "outputs": [],
   "source": [
    "import sys, pickle, time, importlib\n",
    "sys.path.append(\"../\")\n",
    "from pprint import pprint\n",
    "import numpy as np\n",
    "np.random.seed(42)\n",
    "np.set_printoptions(threshold=sys.maxsize)\n",
    "import scipy as spy\n",
    "%matplotlib inline\n",
    "import matplotlib.pyplot as plt\n",
    "plt.style.use(\"ggplot\")"
   ]
  },
  {
   "cell_type": "code",
   "execution_count": 3,
   "id": "83bbdcbe",
   "metadata": {},
   "outputs": [],
   "source": [
    "path_utils = \"../\"\n",
    "sys.path.append(path_utils)\n",
    "from utils import *"
   ]
  },
  {
   "cell_type": "markdown",
   "id": "7cd8b1bc",
   "metadata": {},
   "source": [
    "# Load the settings for real device implementation"
   ]
  },
  {
   "cell_type": "code",
   "execution_count": 4,
   "id": "66587fa8",
   "metadata": {},
   "outputs": [],
   "source": [
    "import pickle\n",
    "with open(path_utils+\"pkls/parameters_vqe.pkl\", \"rb\") as f:\n",
    "    records_vqe = pickle.load(f)\n",
    "num_qubits = records_vqe[\"num_qubits\"]"
   ]
  },
  {
   "cell_type": "code",
   "execution_count": 5,
   "id": "f21ada40",
   "metadata": {},
   "outputs": [],
   "source": [
    "import pickle\n",
    "with open(\"pkls/0_settings.pkl\", \"rb\") as f:\n",
    "    settings = pickle.load(f)\n",
    "backend = settings[\"backend\"]"
   ]
  },
  {
   "cell_type": "code",
   "execution_count": 6,
   "id": "43fb1f7f",
   "metadata": {},
   "outputs": [],
   "source": [
    "from qiskit.ignis.mitigation.measurement import complete_meas_cal, CompleteMeasFitter\n",
    "from qiskit import QuantumRegister\n",
    "qr_cal = QuantumRegister(num_qubits + 1)\n",
    "_, state_labels = complete_meas_cal(qr=qr_cal, circlabel='mcal')"
   ]
  },
  {
   "cell_type": "markdown",
   "id": "750c2330",
   "metadata": {},
   "source": [
    "# Retrieve job"
   ]
  },
  {
   "cell_type": "code",
   "execution_count": 7,
   "id": "4bf505b9",
   "metadata": {},
   "outputs": [
    {
     "data": {
      "text/plain": [
       "[<AccountProvider for IBMQ(hub='ibm-q', group='open', project='main')>,\n",
       " <AccountProvider for IBMQ(hub='ibm-q-community', group='ibmquantumawards', project='open-science-22')>]"
      ]
     },
     "execution_count": 7,
     "metadata": {},
     "output_type": "execute_result"
    }
   ],
   "source": [
    "from qiskit.providers.fake_provider import FakeJakarta\n",
    "from qiskit import IBMQ\n",
    "IBMQ.load_account()\n",
    "IBMQ.providers()"
   ]
  },
  {
   "cell_type": "code",
   "execution_count": 8,
   "id": "b940ec62",
   "metadata": {},
   "outputs": [],
   "source": [
    "import pickle\n",
    "with open(\"pkls/1_run_qrem.pkl\", \"rb\") as f:\n",
    "    record_job = pickle.load(f)"
   ]
  },
  {
   "cell_type": "code",
   "execution_count": 9,
   "id": "304b874b",
   "metadata": {},
   "outputs": [],
   "source": [
    "# provider = IBMQ.get_provider(hub='ibm-q-community', group='qamp', project='fall-22-33')\n",
    "# backend = provider.get_backend(\"ibmq_jakarta\")# = FakeJakarta()"
   ]
  },
  {
   "cell_type": "code",
   "execution_count": 10,
   "id": "d92f7550",
   "metadata": {},
   "outputs": [
    {
     "name": "stdout",
     "output_type": "stream",
     "text": [
      "64088652a6f4d2a48e800dd3\n"
     ]
    }
   ],
   "source": [
    "job_id = record_job[\"job_id\"]\n",
    "print(job_id)\n",
    "# job_cal = backend.retrieve_job(job_id)"
   ]
  },
  {
   "cell_type": "code",
   "execution_count": 16,
   "id": "d0fd0f17",
   "metadata": {},
   "outputs": [],
   "source": [
    "import json\n",
    "from qiskit.result import Result\n",
    "\n",
    "f = open(\"pkls/job-\"+job_id+\"/\"+job_id+\"-output.json\")\n",
    "data = json.load(f)\n",
    "\n",
    "result = Result.from_dict(data)\n",
    "# print(result.get_counts())"
   ]
  },
  {
   "cell_type": "code",
   "execution_count": 17,
   "id": "e9ae9383",
   "metadata": {},
   "outputs": [],
   "source": [
    "meas_fitter = CompleteMeasFitter(result, state_labels, circlabel='mcal')\n",
    "# meas_fitter = CompleteMeasFitter(job_cal.result(), state_labels, circlabel='mcal')"
   ]
  },
  {
   "cell_type": "markdown",
   "id": "37ae2248",
   "metadata": {},
   "source": [
    "# Save Data"
   ]
  },
  {
   "cell_type": "code",
   "execution_count": 18,
   "id": "40504df0",
   "metadata": {},
   "outputs": [],
   "source": [
    "records = dict()\n",
    "records[\"meas_fitter\"] = meas_fitter"
   ]
  },
  {
   "cell_type": "code",
   "execution_count": 19,
   "id": "fd250d8d",
   "metadata": {},
   "outputs": [],
   "source": [
    "import pickle\n",
    "with open(\"pkls/2_make_qrem_filter.pkl\", \"wb\") as f:\n",
    "    pickle.dump(records, f)"
   ]
  },
  {
   "cell_type": "markdown",
   "id": "6248b094",
   "metadata": {},
   "source": [
    "# Qiskit versions"
   ]
  },
  {
   "cell_type": "code",
   "execution_count": 20,
   "id": "f1f82adf",
   "metadata": {},
   "outputs": [
    {
     "data": {
      "text/html": [
       "<h3>Version Information</h3><table><tr><th>Qiskit Software</th><th>Version</th></tr><tr><td><code>qiskit-terra</code></td><td>0.21.2</td></tr><tr><td><code>qiskit-aer</code></td><td>0.10.4</td></tr><tr><td><code>qiskit-ignis</code></td><td>0.6.0</td></tr><tr><td><code>qiskit-ibmq-provider</code></td><td>0.19.2</td></tr><tr><td><code>qiskit</code></td><td>0.37.2</td></tr><tr><td><code>qiskit-nature</code></td><td>0.4.5</td></tr><tr><td><code>qiskit-optimization</code></td><td>0.2.3</td></tr><tr><td><code>qiskit-machine-learning</code></td><td>0.2.1</td></tr><tr><th>System information</th></tr><tr><td>Python version</td><td>3.9.7</td></tr><tr><td>Python compiler</td><td>Clang 10.0.0 </td></tr><tr><td>Python build</td><td>default, Sep 16 2021 08:50:36</td></tr><tr><td>OS</td><td>Darwin</td></tr><tr><td>CPUs</td><td>4</td></tr><tr><td>Memory (Gb)</td><td>16.0</td></tr><tr><td colspan='2'>Thu Mar 16 17:09:24 2023 CET</td></tr></table>"
      ],
      "text/plain": [
       "<IPython.core.display.HTML object>"
      ]
     },
     "metadata": {},
     "output_type": "display_data"
    }
   ],
   "source": [
    "import qiskit.tools.jupyter\n",
    "%qiskit_version_table"
   ]
  }
 ],
 "metadata": {
  "kernelspec": {
   "display_name": "Python 3 (ipykernel)",
   "language": "python",
   "name": "python3"
  },
  "language_info": {
   "codemirror_mode": {
    "name": "ipython",
    "version": 3
   },
   "file_extension": ".py",
   "mimetype": "text/x-python",
   "name": "python",
   "nbconvert_exporter": "python",
   "pygments_lexer": "ipython3",
   "version": "3.9.7"
  }
 },
 "nbformat": 4,
 "nbformat_minor": 5
}
