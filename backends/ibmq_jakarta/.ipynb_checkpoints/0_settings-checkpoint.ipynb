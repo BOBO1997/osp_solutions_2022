{
 "cells": [
  {
   "cell_type": "markdown",
   "id": "dbbea62a",
   "metadata": {},
   "source": [
    "# Settings for real device implementation"
   ]
  },
  {
   "cell_type": "code",
   "execution_count": 1,
   "id": "00447a66",
   "metadata": {},
   "outputs": [],
   "source": [
    "from qiskit.providers.fake_provider import FakeJakarta\n",
    "backend = FakeJakarta()"
   ]
  },
  {
   "cell_type": "code",
   "execution_count": 2,
   "id": "70ce7a35",
   "metadata": {},
   "outputs": [],
   "source": [
    "# from qiskit import IBMQ\n",
    "# IBMQ.load_account()\n",
    "# IBMQ.providers()\n",
    "# provider = IBMQ.get_provider(hub='ibm-q-community', group='qamp', project='fall-22-33')\n",
    "# backend = provider.get_backend(\"ibmq_jakarta\")"
   ]
  },
  {
   "cell_type": "code",
   "execution_count": 3,
   "id": "de339545",
   "metadata": {},
   "outputs": [],
   "source": [
    "settings = dict()\n",
    "settings[\"shots\"] = 1 << 13\n",
    "settings[\"shots_cal\"] = 1 << 13\n",
    "settings[\"backend\"] = backend\n",
    "settings[\"initial_layout\"] = [2, 0, 1, 3, 5]\n",
    "settings[\"basis_gates\"] = [\"sx\", \"rz\", \"cx\"]\n",
    "settings[\"optimization_level\"] = 3\n",
    "settings[\"z_index\"] = 1\n",
    "settings[\"connection_order\"] = [[0,1],[1,2],[2,3]]"
   ]
  },
  {
   "cell_type": "code",
   "execution_count": 4,
   "id": "08dde9a8",
   "metadata": {},
   "outputs": [],
   "source": [
    "path_utils = \"../\"\n",
    "import sys\n",
    "sys.path.append(path_utils)\n",
    "from utils import *"
   ]
  },
  {
   "cell_type": "code",
   "execution_count": 5,
   "id": "887db46d",
   "metadata": {},
   "outputs": [],
   "source": [
    "import pickle\n",
    "with open(path_utils+\"pkls/parameters_vqe.pkl\", \"rb\") as f:\n",
    "    records_vqe = pickle.load(f)\n",
    "settings[\"num_qubits\"] = records_vqe[\"num_qubits\"]\n",
    "settings[\"num_layers\"] = records_vqe[\"num_layers\"]\n",
    "settings[\"H\"] = records_vqe[\"H\"]\n",
    "settings[\"parameters_vqe\"] = records_vqe[\"record_param_list\"][-1] # this is the log of parameters for each iteration. We use the last set of parameters."
   ]
  },
  {
   "cell_type": "code",
   "execution_count": 6,
   "id": "475c4d28",
   "metadata": {},
   "outputs": [],
   "source": [
    "import pickle\n",
    "with open(\"pkls/0_settings.pkl\", \"wb\") as f:\n",
    "    pickle.dump(settings, f)"
   ]
  },
  {
   "cell_type": "code",
   "execution_count": 7,
   "id": "fbb81136",
   "metadata": {},
   "outputs": [
    {
     "data": {
      "text/html": [
       "<h3>Version Information</h3><table><tr><th>Qiskit Software</th><th>Version</th></tr><tr><td><code>qiskit-terra</code></td><td>0.21.2</td></tr><tr><td><code>qiskit-aer</code></td><td>0.10.4</td></tr><tr><td><code>qiskit-ignis</code></td><td>0.6.0</td></tr><tr><td><code>qiskit-ibmq-provider</code></td><td>0.19.2</td></tr><tr><td><code>qiskit</code></td><td>0.37.2</td></tr><tr><td><code>qiskit-nature</code></td><td>0.4.5</td></tr><tr><td><code>qiskit-optimization</code></td><td>0.2.3</td></tr><tr><td><code>qiskit-machine-learning</code></td><td>0.2.1</td></tr><tr><th>System information</th></tr><tr><td>Python version</td><td>3.9.7</td></tr><tr><td>Python compiler</td><td>Clang 10.0.0 </td></tr><tr><td>Python build</td><td>default, Sep 16 2021 08:50:36</td></tr><tr><td>OS</td><td>Darwin</td></tr><tr><td>CPUs</td><td>4</td></tr><tr><td>Memory (Gb)</td><td>16.0</td></tr><tr><td colspan='2'>Thu Mar 16 22:38:42 2023 CET</td></tr></table>"
      ],
      "text/plain": [
       "<IPython.core.display.HTML object>"
      ]
     },
     "metadata": {},
     "output_type": "display_data"
    }
   ],
   "source": [
    "import qiskit.tools.jupyter\n",
    "%qiskit_version_table"
   ]
  }
 ],
 "metadata": {
  "kernelspec": {
   "display_name": "Python 3 (ipykernel)",
   "language": "python",
   "name": "python3"
  },
  "language_info": {
   "codemirror_mode": {
    "name": "ipython",
    "version": 3
   },
   "file_extension": ".py",
   "mimetype": "text/x-python",
   "name": "python",
   "nbconvert_exporter": "python",
   "pygments_lexer": "ipython3",
   "version": "3.9.7"
  }
 },
 "nbformat": 4,
 "nbformat_minor": 5
}
