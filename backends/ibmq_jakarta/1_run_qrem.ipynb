{
 "cells": [
  {
   "cell_type": "code",
   "execution_count": 1,
   "id": "a09e57bd",
   "metadata": {},
   "outputs": [
    {
     "data": {
      "text/plain": [
       "'/Users/yangbo/Documents/projects/qamp_gse/test/ipynb/gse_vqe/backends/ibmq_jakarta'"
      ]
     },
     "execution_count": 1,
     "metadata": {},
     "output_type": "execute_result"
    }
   ],
   "source": [
    "%pwd"
   ]
  },
  {
   "cell_type": "markdown",
   "id": "279d117c",
   "metadata": {},
   "source": [
    "# COMMON --- LIBRARIES AND UTILS"
   ]
  },
  {
   "cell_type": "code",
   "execution_count": 2,
   "id": "fed6f97c",
   "metadata": {},
   "outputs": [],
   "source": [
    "import sys, pickle, time, importlib\n",
    "from pprint import pprint\n",
    "import numpy as np\n",
    "np.random.seed(42)\n",
    "np.set_printoptions(threshold=sys.maxsize)\n",
    "import scipy as spy\n",
    "%matplotlib inline\n",
    "import matplotlib.pyplot as plt\n",
    "plt.style.use(\"ggplot\")"
   ]
  },
  {
   "cell_type": "code",
   "execution_count": 3,
   "id": "5723ba0a",
   "metadata": {},
   "outputs": [],
   "source": [
    "path_utils = \"../\"\n",
    "sys.path.append(path_utils)\n",
    "from utils import *"
   ]
  },
  {
   "cell_type": "markdown",
   "id": "c7232e2d",
   "metadata": {},
   "source": [
    "# Load the settings for real device implementation"
   ]
  },
  {
   "cell_type": "code",
   "execution_count": 5,
   "id": "857e3c9f",
   "metadata": {},
   "outputs": [],
   "source": [
    "import pickle\n",
    "with open(\"pkls/0_settings.pkl\", \"rb\") as f:\n",
    "    settings = pickle.load(f)\n",
    "shots = settings[\"shots\"]\n",
    "backend = settings[\"backend\"]\n",
    "initial_layout = settings[\"initial_layout\"]\n",
    "basis_gates = settings[\"basis_gates\"]\n",
    "optimization_level = settings[\"optimization_level\"]\n",
    "z_index = settings[\"z_index\"]\n",
    "connection_order = settings[\"connection_order\"]\n",
    "num_qubits = settings[\"num_qubits\"]\n",
    "num_layers = settings[\"num_layers\"]\n",
    "H = settings[\"H\"]\n",
    "parameters_vqe = settings[\"parameters_vqe\"]"
   ]
  },
  {
   "cell_type": "markdown",
   "id": "e5d0ad37",
   "metadata": {},
   "source": [
    "# \n",
    "# Adding QREM before GSE\n",
    "# \n",
    "\n",
    "[Quantum Readout Error Mitigation (QREM)](https://qiskit.org/textbook/ch-quantum-hardware/measurement-error-mitigation.html) mitigates the errors occured in measurement process."
   ]
  },
  {
   "cell_type": "code",
   "execution_count": 6,
   "id": "43fb1f7f",
   "metadata": {},
   "outputs": [],
   "source": [
    "from qiskit.ignis.mitigation.measurement import complete_meas_cal, CompleteMeasFitter\n",
    "from qiskit import QuantumRegister\n",
    "qr_cal = QuantumRegister(num_qubits + 1)\n",
    "meas_calibs, state_labels = complete_meas_cal(qr=qr_cal, circlabel='mcal')"
   ]
  },
  {
   "cell_type": "code",
   "execution_count": 7,
   "id": "b940ec62",
   "metadata": {},
   "outputs": [
    {
     "data": {
      "text/plain": [
       "'64088652a6f4d2a48e800dd3'"
      ]
     },
     "execution_count": 7,
     "metadata": {},
     "output_type": "execute_result"
    }
   ],
   "source": [
    "from qiskit import execute\n",
    "job_cal = execute(meas_calibs, backend=backend, shots=shots_cal, optimization_level=0, initial_layout=initial_layout)\n",
    "job_cal.job_id()"
   ]
  },
  {
   "cell_type": "markdown",
   "id": "37ae2248",
   "metadata": {},
   "source": [
    "# Save Data"
   ]
  },
  {
   "cell_type": "code",
   "execution_count": 8,
   "id": "d292d18b",
   "metadata": {},
   "outputs": [],
   "source": [
    "record_job = dict()\n",
    "# record_job[\"job\"] = job_cal\n",
    "record_job[\"job_id\"] = job_cal.job_id()"
   ]
  },
  {
   "cell_type": "code",
   "execution_count": 9,
   "id": "fd250d8d",
   "metadata": {},
   "outputs": [],
   "source": [
    "import pickle\n",
    "with open(\"pkls/1_run_qrem.pkl\", \"wb\") as f:\n",
    "    pickle.dump(record_job, f)"
   ]
  },
  {
   "cell_type": "markdown",
   "id": "7f82ff4a",
   "metadata": {},
   "source": [
    "# Monitor the job"
   ]
  },
  {
   "cell_type": "code",
   "execution_count": 10,
   "id": "9ad5bc72",
   "metadata": {},
   "outputs": [],
   "source": [
    "# from qiskit.tools import job_monitor\n",
    "# job_monitor(job_cal)"
   ]
  },
  {
   "cell_type": "markdown",
   "id": "6248b094",
   "metadata": {},
   "source": [
    "# Qiskit versions"
   ]
  },
  {
   "cell_type": "code",
   "execution_count": 11,
   "id": "f1f82adf",
   "metadata": {},
   "outputs": [
    {
     "data": {
      "text/html": [
       "<h3>Version Information</h3><table><tr><th>Qiskit Software</th><th>Version</th></tr><tr><td><code>qiskit-terra</code></td><td>0.21.2</td></tr><tr><td><code>qiskit-aer</code></td><td>0.10.4</td></tr><tr><td><code>qiskit-ignis</code></td><td>0.6.0</td></tr><tr><td><code>qiskit-ibmq-provider</code></td><td>0.19.2</td></tr><tr><td><code>qiskit</code></td><td>0.37.2</td></tr><tr><td><code>qiskit-nature</code></td><td>0.4.5</td></tr><tr><td><code>qiskit-optimization</code></td><td>0.2.3</td></tr><tr><td><code>qiskit-machine-learning</code></td><td>0.2.1</td></tr><tr><th>System information</th></tr><tr><td>Python version</td><td>3.9.7</td></tr><tr><td>Python compiler</td><td>Clang 10.0.0 </td></tr><tr><td>Python build</td><td>default, Sep 16 2021 08:50:36</td></tr><tr><td>OS</td><td>Darwin</td></tr><tr><td>CPUs</td><td>4</td></tr><tr><td>Memory (Gb)</td><td>16.0</td></tr><tr><td colspan='2'>Wed Mar 08 13:58:10 2023 CET</td></tr></table>"
      ],
      "text/plain": [
       "<IPython.core.display.HTML object>"
      ]
     },
     "metadata": {},
     "output_type": "display_data"
    }
   ],
   "source": [
    "import qiskit.tools.jupyter\n",
    "%qiskit_version_table"
   ]
  }
 ],
 "metadata": {
  "kernelspec": {
   "display_name": "Python 3 (ipykernel)",
   "language": "python",
   "name": "python3"
  },
  "language_info": {
   "codemirror_mode": {
    "name": "ipython",
    "version": 3
   },
   "file_extension": ".py",
   "mimetype": "text/x-python",
   "name": "python",
   "nbconvert_exporter": "python",
   "pygments_lexer": "ipython3",
   "version": "3.9.7"
  }
 },
 "nbformat": 4,
 "nbformat_minor": 5
}
