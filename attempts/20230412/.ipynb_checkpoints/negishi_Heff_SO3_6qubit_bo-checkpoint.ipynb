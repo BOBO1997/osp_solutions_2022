{
 "cells": [
  {
   "cell_type": "code",
   "execution_count": 1,
   "id": "fb3b2e13-9651-49eb-9f8a-0012d3fb21ed",
   "metadata": {
    "tags": []
   },
   "outputs": [],
   "source": [
    "import sys, pickle, time, importlib\n",
    "from pprint import pprint\n",
    "import numpy as np\n",
    "np.random.seed(42)\n",
    "np.set_printoptions(threshold=sys.maxsize)\n",
    "import scipy as spy\n",
    "%matplotlib inline\n",
    "import matplotlib.pyplot as plt\n",
    "plt.style.use(\"ggplot\")\n",
    "plt.rcParams.update({\"font.size\": 16})  # enlarge matplotlib fonts"
   ]
  },
  {
   "cell_type": "code",
   "execution_count": 2,
   "id": "783fd3bd",
   "metadata": {},
   "outputs": [],
   "source": [
    "# Doc for loading IBMQ account https://quantum-computing.ibm.com/lab/docs/iql/manage/account/ibmq#the-account\n",
    "# from qiskit import IBMQ\n",
    "# IBMQ.save_account(TOKEN)\n",
    "# IBMQ.load_account() # Load account from disk\n",
    "# provider = IBMQ.get_provider(hub='ibm-q-community', group='ibmquantumawards', project='open-science-22')\n",
    "\n",
    "# Real backend; needed for transpilation later on\n",
    "#guadalupe = provider.get_backend(\"ibmq_guadalupe\")\n",
    "\n",
    "# Get fake backend if you like\n",
    "from qiskit.providers.fake_provider import FakeGuadalupe\n",
    "\n",
    "#Noisy simulator backend\n",
    "noisy_sim = FakeGuadalupe()\n",
    "from qiskit.opflow import Zero, One, I, X, Y, Z, PauliSumOp\n",
    "from qiskit import Aer\n",
    "from qiskit.providers.aer import QasmSimulator\n",
    "#from qiskit.tools.monitor import job_monitor\n",
    "#from qiskit.circuit import Parameter\n",
    "backend = Aer.get_backend('qasm_simulator')"
   ]
  },
  {
   "cell_type": "code",
   "execution_count": 3,
   "id": "22017474-5890-44cd-821c-22ca1b143d6b",
   "metadata": {},
   "outputs": [
    {
     "data": {
      "text/plain": [
       "<rustworkx.EdgeIndices at 0x7fcd4f186d80>"
      ]
     },
     "execution_count": 3,
     "metadata": {},
     "output_type": "execute_result"
    }
   ],
   "source": [
    "# Kagome unit cell\n",
    "num_qubits = 16\n",
    "# Edge weight\n",
    "t = 1.0\n",
    "\n",
    "# Generate graph of kagome unit cell\n",
    "# Start by defining all the edges\n",
    "import rustworkx as rx\n",
    "graph_16 = rx.PyGraph(multigraph=False)\n",
    "graph_16.add_nodes_from(range(num_qubits))\n",
    "edge_list = [\n",
    "    (1, 2, t),\n",
    "    (2, 3, t),\n",
    "    (3, 5, t),\n",
    "    (5, 8, t),\n",
    "    (8, 11, t),\n",
    "    (11, 14, t),\n",
    "    (14, 13, t),\n",
    "    (13, 12, t),\n",
    "    (12, 10, t),\n",
    "    (10, 7, t),\n",
    "    (7, 4, t),\n",
    "    (4, 1, t),\n",
    "    (4, 2, t),\n",
    "    (2, 5, t),\n",
    "    (5, 11, t),\n",
    "    (11, 13, t),\n",
    "    (13, 10, t),\n",
    "    (10, 4, t),\n",
    "]\n",
    "# Generate graph from the list of edges\n",
    "graph_16.add_edges_from(edge_list)"
   ]
  },
  {
   "cell_type": "code",
   "execution_count": 5,
   "id": "42ac6703",
   "metadata": {},
   "outputs": [
    {
     "data": {
      "image/png": "[encoded data removed]",
      "text/plain": [
       "<Figure size 432x288 with 1 Axes>"
      ]
     },
     "metadata": {},
     "output_type": "display_data"
    }
   ],
   "source": [
    "from qiskit_nature.problems.second_quantization.lattice import Lattice\n",
    "# Make a Lattice from graph\n",
    "kagome_unit_cell_16 = Lattice(graph_16)\n",
    "\n",
    "# Draw Lattice and include labels to check we exclude the right spins\n",
    "# Specify node locations for better visualizations\n",
    "kagome_pos = {0:[1,-1], 6:[1.5,-1], 9:[2,-1], 15:[2.5,-1], \n",
    "              1:[0,-0.8], 2:[-0.6,1], 4:[0.6,1], 10:[1.2,3], \n",
    "              13:[0.6,5], 11:[-0.6,5], 5:[-1.2,3], 3:[-1.8,0.9], \n",
    "              8:[-1.8,5.1], 14:[0,6.8], 7:[1.8,0.9], 12:[1.8,5.1]}\n",
    "kagome_unit_cell_16.draw(style={'with_labels':True, 'font_color':'white', 'node_color':'purple', 'pos':kagome_pos})\n",
    "plt.show()"
   ]
  },
  {
   "cell_type": "code",
   "execution_count": 6,
   "id": "2e5df16a",
   "metadata": {},
   "outputs": [
    {
     "data": {
      "text/plain": [
       "<heisenberg_model.HeisenbergModel at 0x7fcd50128fd0>"
      ]
     },
     "execution_count": 6,
     "metadata": {},
     "output_type": "execute_result"
    }
   ],
   "source": [
    "# Custom Heisenberg couplings\n",
    "sys.path.append(r'.')  # may be needed if running notebook on a cloud service\n",
    "from heisenberg_model import HeisenbergModel\n",
    "\n",
    "# Build Hamiltonian from graph edges\n",
    "heis_16 = HeisenbergModel.uniform_parameters(\n",
    "    lattice=kagome_unit_cell_16,\n",
    "    uniform_interaction=t,\n",
    "    uniform_onsite_potential=0.0,  # No singe site external field\n",
    ")\n",
    "heis_16"
   ]
  },
  {
   "cell_type": "code",
   "execution_count": 7,
   "id": "a44d6279-a630-4e15-859c-a68dfbee6550",
   "metadata": {},
   "outputs": [
    {
     "data": {
      "text/plain": [
       "PauliSumOp(SparsePauliOp(['IZZIIIIIIIIIIIII', 'IIZZIIIIIIIIIIII', 'IZIIZIIIIIIIIIII', 'IIZIZIIIIIIIIIII', 'IIZIIZIIIIIIIIII', 'IIIZIZIIIIIIIIII', 'IIIIZIIZIIIIIIII', 'IIIIIZIIZIIIIIII', 'IIIIZIIIIIZIIIII', 'IIIIIIIZIIZIIIII', 'IIIIIZIIIIIZIIII', 'IIIIIIIIZIIZIIII', 'IIIIIIIIIIZIZIII', 'IIIIIIIIIIZIIZII', 'IIIIIIIIIIIZIZII', 'IIIIIIIIIIIIZZII', 'IIIIIIIIIIIZIIZI', 'IIIIIIIIIIIIIZZI', 'IYYIIIIIIIIIIIII', 'IIYYIIIIIIIIIIII', 'IYIIYIIIIIIIIIII', 'IIYIYIIIIIIIIIII', 'IIYIIYIIIIIIIIII', 'IIIYIYIIIIIIIIII', 'IIIIYIIYIIIIIIII', 'IIIIIYIIYIIIIIII', 'IIIIYIIIIIYIIIII', 'IIIIIIIYIIYIIIII', 'IIIIIYIIIIIYIIII', 'IIIIIIIIYIIYIIII', 'IIIIIIIIIIYIYIII', 'IIIIIIIIIIYIIYII', 'IIIIIIIIIIIYIYII', 'IIIIIIIIIIIIYYII', 'IIIIIIIIIIIYIIYI', 'IIIIIIIIIIIIIYYI', 'IXXIIIIIIIIIIIII', 'IIXXIIIIIIIIIIII', 'IXIIXIIIIIIIIIII', 'IIXIXIIIIIIIIIII', 'IIXIIXIIIIIIIIII', 'IIIXIXIIIIIIIIII', 'IIIIXIIXIIIIIIII', 'IIIIIXIIXIIIIIII', 'IIIIXIIIIIXIIIII', 'IIIIIIIXIIXIIIII', 'IIIIIXIIIIIXIIII', 'IIIIIIIIXIIXIIII', 'IIIIIIIIIIXIXIII', 'IIIIIIIIIIXIIXII', 'IIIIIIIIIIIXIXII', 'IIIIIIIIIIIIXXII', 'IIIIIIIIIIIXIIXI', 'IIIIIIIIIIIIIXXI'],\n",
       "              coeffs=[1.+0.j, 1.+0.j, 1.+0.j, 1.+0.j, 1.+0.j, 1.+0.j, 1.+0.j, 1.+0.j, 1.+0.j,\n",
       " 1.+0.j, 1.+0.j, 1.+0.j, 1.+0.j, 1.+0.j, 1.+0.j, 1.+0.j, 1.+0.j, 1.+0.j,\n",
       " 1.+0.j, 1.+0.j, 1.+0.j, 1.+0.j, 1.+0.j, 1.+0.j, 1.+0.j, 1.+0.j, 1.+0.j,\n",
       " 1.+0.j, 1.+0.j, 1.+0.j, 1.+0.j, 1.+0.j, 1.+0.j, 1.+0.j, 1.+0.j, 1.+0.j,\n",
       " 1.+0.j, 1.+0.j, 1.+0.j, 1.+0.j, 1.+0.j, 1.+0.j, 1.+0.j, 1.+0.j, 1.+0.j,\n",
       " 1.+0.j, 1.+0.j, 1.+0.j, 1.+0.j, 1.+0.j, 1.+0.j, 1.+0.j, 1.+0.j, 1.+0.j]), coeff=1)"
      ]
     },
     "execution_count": 7,
     "metadata": {},
     "output_type": "execute_result"
    }
   ],
   "source": [
    "from qiskit_nature.mappers.second_quantization import LogarithmicMapper\n",
    "# Map from SpinOp to qubits just as before.\n",
    "log_mapper = LogarithmicMapper()\n",
    "ham_16 = 4 * log_mapper.map(heis_16.second_q_ops().simplify())\n",
    "# Print Hamiltonian to check it's what we expect:\n",
    "# 18 ZZ, 18 YY, and 18 XX terms over 16 qubits instead of over 12 qubits\n",
    "ham_16"
   ]
  },
  {
   "cell_type": "code",
   "execution_count": null,
   "id": "1abc8bcb",
   "metadata": {},
   "outputs": [],
   "source": [
    "from qiskit import QuantumCircuit\n",
    "from qiskit.circuit import Parameter\n",
    "\n",
    "num_layers = 2\n",
    "\n",
    "# Build a custom ansatz from scratch\n",
    "ansatz_custom = QuantumCircuit(12)\n",
    "# build initial state\n",
    "# ansatz_custom.h(range(0, 12, 2))\n",
    "\n",
    "iter_layer = 0\n",
    "\n",
    "ansatz_custom.x(range(1,12,2))\n",
    "\n",
    "ansatz_custom.cx(range(0, 12, 2), range(1, 12, 2))\n",
    "ansatz_custom.cz(range(1, 12, 2), range(0, 11, 2))\n",
    "\n",
    "for i in range(6):\n",
    "    theta=Parameter('θ_' + str(iter_layer))\n",
    "    ansatz_custom.ry(theta, 2 * i)\n",
    "    ansatz_custom.cz(2 * i, 2 * i + 1)\n",
    "    ansatz_custom.ry(-1.0 * theta, 2 * i)\n",
    "    iter_layer += 1\n",
    "\n",
    "ansatz_custom.cx(range(0, 11, 2), range(1, 12, 2))\n",
    "ansatz_custom.cx(range(1, 11, 2), range(2, 12, 2))\n",
    "for i in range(5):\n",
    "    theta=Parameter('θ_' + str(iter_layer))\n",
    "    ansatz_custom.cz(2 * i + 2, 2 * i + 1)\n",
    "    ansatz_custom.ry(theta, 2 * i + 1)\n",
    "    ansatz_custom.cz(2 * i + 2, 2 * i + 1)\n",
    "    ansatz_custom.ry(-1.0 * theta, 2 * i + 1)\n",
    "    iter_layer += 1\n",
    "    \n",
    "ansatz_custom.cx(range(1, 11, 2), range(2, 12, 2))\n",
    "ansatz_custom.draw(\"mpl\", fold=250)"
   ]
  },
  {
   "cell_type": "code",
   "execution_count": 9,
   "id": "b9c0727e-502b-43a8-8717-f19e09f6c3e0",
   "metadata": {},
   "outputs": [
    {
     "data": {
      "image/png": "[encoded data removed]",
      "text/plain": [
       "<Figure size 882.178x746.48 with 1 Axes>"
      ]
     },
     "execution_count": 9,
     "metadata": {},
     "output_type": "execute_result"
    }
   ],
   "source": [
    "from qiskit import QuantumCircuit\n",
    "from qiskit.circuit import Parameter\n",
    "\n",
    "num_layers = 2\n",
    "\n",
    "# Build a custom ansatz from scratch\n",
    "ansatz_custom = QuantumCircuit(12)\n",
    "\n",
    "ansatz_custom.x(range(1,12,2))\n",
    "ansatz_custom.cx(range(0, 6, 2), range(1, 6, 2))\n",
    "ansatz_custom.cz(range(1, 6, 2), range(0, 6, 2))\n",
    "\n",
    "j = 0\n",
    "for i in range(3):\n",
    "    theta=Parameter('θ_' + str(j))\n",
    "    ansatz_custom.ry(theta, 2*i)\n",
    "    ansatz_custom.cz(2*i, 2*i+1)\n",
    "    ansatz_custom.ry(-1.0*theta, 2*i)\n",
    "    j += 1\n",
    "\n",
    "ansatz_custom.cx(range(0, 6, 2), range(1, 6, 2))\n",
    "\n",
    "ansatz_custom.cx(range(1, 5, 2), range(2, 6, 2))\n",
    "for i in range(2):\n",
    "    theta=Parameter('θ_' + str(j))\n",
    "    ansatz_custom.cz(2*i+2, 2*i+1)\n",
    "    ansatz_custom.ry(theta, 2*i+1)\n",
    "    ansatz_custom.cz(2*i+2, 2*i+1)\n",
    "    ansatz_custom.ry(-1.0*theta, 2*i+1)\n",
    "    j += 1\n",
    "ansatz_custom.cx(range(1, 5, 2), range(2, 6, 2))\n",
    "ansatz_custom.draw(output=\"mpl\", fold=250)"
   ]
  },
  {
   "cell_type": "code",
   "execution_count": 11,
   "id": "66c92338-eaaa-49ca-b369-baa0130583f1",
   "metadata": {},
   "outputs": [
    {
     "name": "stdout",
     "output_type": "stream",
     "text": [
      "number and type of gates in the cirucit: OrderedDict([('rz', 56), ('sx', 31), ('cx', 20), ('x', 6)])\n",
      "number of parameters in the circuit: 5\n"
     ]
    },
    {
     "data": {
      "image/png": "[encoded data removed]",
      "text/plain": [
       "<Figure size 2540.26x987.28 with 1 Axes>"
      ]
     },
     "execution_count": 11,
     "metadata": {},
     "output_type": "execute_result"
    }
   ],
   "source": [
    "# Force anstaz to be applied to qubits in the heavy hex.\n",
    "# Avoid the outer qubits 0, 6, 9, and 15 which we accounted for in the lattice definition.\n",
    "from qiskit import transpile\n",
    "q_layout = [1, 2, 3, 5, 8, 11, 14, 13, 12, 10, 7, 4]\n",
    "ansatz_opt = transpile(ansatz_custom, backend=noisy_sim, initial_layout=q_layout)\n",
    "\n",
    "print('number and type of gates in the cirucit:', ansatz_opt.count_ops())\n",
    "print('number of parameters in the circuit:', ansatz_opt.num_parameters)\n",
    "ansatz_opt.draw(output=\"mpl\", fold=400)"
   ]
  },
  {
   "cell_type": "code",
   "execution_count": 12,
   "id": "4dfc540b-1a31-4481-b37c-90e840ca6e19",
   "metadata": {},
   "outputs": [],
   "source": [
    "from qiskit.algorithms.optimizers import SPSA, AQGD, GradientDescent, ADAM, QNSPSA\n",
    "\n",
    "optimizer = GradientDescent(maxiter=50, learning_rate=0.2)\n",
    "#optimizer = SPSA(maxiter=100, second_order=True)"
   ]
  },
  {
   "cell_type": "code",
   "execution_count": 13,
   "id": "25c2d053-97fb-4597-b716-d30b025d2a6f",
   "metadata": {},
   "outputs": [],
   "source": [
    "from qiskit.algorithms import MinimumEigensolver, VQEResult\n",
    "\n",
    "# Define a custome VQE class to orchestra the ansatz, classical optimizers, \n",
    "# initial point, callback, and final result\n",
    "class CustomVQE(MinimumEigensolver):\n",
    "    \n",
    "    def __init__(self, estimator, circuit, optimizer, callback=None):\n",
    "        \"\"\"\n",
    "        initialise attributes\n",
    "        \"\"\"\n",
    "        self._estimator = estimator ### memo: \n",
    "        self._circuit = circuit ### memo: the quantum circuit\n",
    "        self._optimizer = optimizer ### memo: optimizer\n",
    "        self._callback = callback ### memo: call back function\n",
    "        \n",
    "    def compute_minimum_eigenvalue(self, operators, aux_operators=None):\n",
    "        # Define objective function to classically minimize over\n",
    "        def objective(x):\n",
    "            # Execute job with estimator primitive\n",
    "            job = self._estimator.run([self._circuit], [operators], [x])\n",
    "            # Get results from jobs\n",
    "            est_result = job.result()\n",
    "            # Get the measured energy value\n",
    "            value = est_result.values[0]\n",
    "            # Save result information using callback function\n",
    "            if self._callback is not None:\n",
    "                self._callback(value)\n",
    "            return value\n",
    "            \n",
    "        # Select an initial point for the ansatzs' parameters\n",
    "        x0 = np.pi/4 * np.random.rand(self._circuit.num_parameters)\n",
    "        # x0 =np.pi/4*0.0\n",
    "        \n",
    "        ### Run optimization ###\n",
    "        ### MAIN PROCESS ###\n",
    "        res = self._optimizer.minimize(objective, x0=x0)\n",
    "        \n",
    "        # Populate VQE result\n",
    "        result = VQEResult()\n",
    "        result.cost_function_evals = res.nfev\n",
    "        result.eigenvalue = res.fun\n",
    "        result.optimal_parameters = res.x\n",
    "        return result"
   ]
  },
  {
   "cell_type": "code",
   "execution_count": 14,
   "id": "3c9f48d3-186e-419a-8e03-53d3e81d1fca",
   "metadata": {},
   "outputs": [],
   "source": [
    "# Define a simple callback function\n",
    "intermediate_info = []\n",
    "def callback(value):\n",
    "    intermediate_info.append(value)\n",
    "    print(value)"
   ]
  },
  {
   "cell_type": "code",
   "execution_count": 15,
   "id": "4f793a4d",
   "metadata": {},
   "outputs": [],
   "source": [
    "from qiskit.primitives import Estimator"
   ]
  },
  {
   "cell_type": "code",
   "execution_count": 21,
   "id": "8d56e28f",
   "metadata": {},
   "outputs": [],
   "source": [
    "from qiskit.opflow import PauliSumOp"
   ]
  },
  {
   "cell_type": "code",
   "execution_count": 22,
   "id": "4eb51d72",
   "metadata": {},
   "outputs": [],
   "source": [
    "from qiskit.quantum_info import SparsePauliOp"
   ]
  },
  {
   "cell_type": "code",
   "execution_count": null,
   "id": "a7a3fae4",
   "metadata": {},
   "outputs": [],
   "source": [
    "from utils import *\n",
    "from heisenberg_model import HeisenbergModel"
   ]
  },
  {
   "cell_type": "code",
   "execution_count": 27,
   "id": "2dbbef2f",
   "metadata": {},
   "outputs": [
    {
     "name": "stdout",
     "output_type": "stream",
     "text": [
      "SparsePauliOp(['IIIYIY', 'IYYIII', 'YYIIII', 'IZZIII', 'ZZIIII', 'IZIZII', 'XXIIII', 'IIXXII', 'IIIYYI', 'IIIXIX', 'IIIZZI', 'IIIXXI', 'IXXIII', 'IIIZIZ', 'IIIIZZ', 'IIZZII', 'IYIYII', 'IIYYII', 'IXIXII', 'IIIIXX', 'IIIIYY'],\n",
      "              coeffs=[1.+0.j, 1.+0.j, 1.+0.j, 1.+0.j, 1.+0.j, 1.+0.j, 1.+0.j, 1.+0.j, 1.+0.j,\n",
      " 1.+0.j, 1.+0.j, 1.+0.j, 1.+0.j, 1.+0.j, 1.+0.j, 1.+0.j, 1.+0.j, 1.+0.j,\n",
      " 1.+0.j, 1.+0.j, 1.+0.j])\n"
     ]
    }
   ],
   "source": [
    "pauli_str_list = {'ZZIIII', 'IZZIII', 'IZIZII', 'IIZZII', 'IIIZZI', 'IIIZIZ', \n",
    "                  'IIIIZZ', 'YYIIII', 'IYYIII', 'IYIYII', 'IIYYII', 'IIIYYI', \n",
    "                  'IIIYIY', 'IIIIYY', 'XXIIII', 'IXXIII', 'IXIXII', 'IIXXII', \n",
    "                  'IIIXXI', 'IIIXIX', 'IIIIXX'}\n",
    "coeff_list = [1.0] * len(pauli_str_list)\n",
    "H = SparsePauliOp(pauli_str_list, coeff_list)\n",
    "print(H)"
   ]
  },
  {
   "cell_type": "code",
   "execution_count": null,
   "id": "ce88b13c",
   "metadata": {},
   "outputs": [],
   "source": [
    "for i in range(2):\n",
    "    pauli_str_list = [\"I\" * (2 * i + 1) + \"II\" + \"I\"*(3 - 2 * i),\n",
    "                      \"I\" * (2 * i + 1) + \"XI\" + \"I\"*(3 - 2 * i),\n",
    "                      \"I\" * (2 * i + 1) + \"IZ\" + \"I\"*(3 - 2 * i),\n",
    "                      \"I\" * (2 * i + 1) + \"XZ\" + \"I\"*(3 - 2 * i)]\n",
    "    A = SparsePauliOp(pauli_str_list, [0.5, 0.5, 0.5, -0.5])\n",
    "    H = A * H * A"
   ]
  },
  {
   "cell_type": "code",
   "execution_count": null,
   "id": "440d2c50",
   "metadata": {},
   "outputs": [],
   "source": [
    "for i in range(2):\n",
    "    if 0.25 * np.pi < result.optimal_parameters[4 - i] % (2 * np.pi) < 0.75 * np.pi:\n",
    "        A = SparsePauliOp([\"I\"*6, \"I\"*(3-2*i)+\"Y\"+\"I\"*(2*i+2)], [np.sqrt(0.5), 1j * np.sqrt(0.5)]) ### changed 12 to 6\n",
    "        B = SparsePauliOp([\"I\"*6, \"I\"*(3-2*i)+\"Y\"+\"I\"*(2*i+2)], [np.sqrt(0.5), -1j * np.sqrt(0.5)]) ### changed 12 to 6\n",
    "        H = B * H * A\n",
    "    elif 0.75 * np.pi < result.optimal_parameters[4 - i] % (2 * np.pi) < 1.25 * np.pi:\n",
    "        A = SparsePauliOp([\"I\"*(9-2*i)+\"Y\"+\"I\"*(2*i+2)], [1.0]) ### why 9? ###\n",
    "        H = A * H * A\n",
    "    elif 1.25 * np.pi < result.optimal_parameters[4 - i] % (2 * np.pi) < 1.75 * np.pi:\n",
    "        A = SparsePauliOp([\"I\"*6, \"I\"*(3-2*i)+\"Y\"+\"I\"*(2*i+2)], [np.sqrt(0.5), 1j * np.sqrt(0.5)]) ### changed 12 to 6\n",
    "        B = SparsePauliOp([\"I\"*6, \"I\"*(3-2*i)+\"Y\"+\"I\"*(2*i+2)], [np.sqrt(0.5), -1j * np.sqrt(0.5)]) ### changed 12 to 6\n",
    "        H = A * H * B\n",
    "    else:\n",
    "        continue"
   ]
  },
  {
   "cell_type": "code",
   "execution_count": 30,
   "id": "e330b4da",
   "metadata": {},
   "outputs": [
    {
     "ename": "SyntaxError",
     "evalue": "invalid syntax (3606854886.py, line 3)",
     "output_type": "error",
     "traceback": [
      "\u001b[0;36m  File \u001b[0;32m\"/var/folders/vr/d82vcp297v78vk4sb0_nzzdc0000gn/T/ipykernel_99743/3606854886.py\"\u001b[0;36m, line \u001b[0;32m3\u001b[0m\n\u001b[0;31m    H = A *\u001b[0m\n\u001b[0m            ^\u001b[0m\n\u001b[0;31mSyntaxError\u001b[0m\u001b[0;31m:\u001b[0m invalid syntax\n"
     ]
    }
   ],
   "source": [
    "for i in range(2):\n",
    "    A = SparsePauliOp()\n",
    "    H = A * H * A"
   ]
  },
  {
   "cell_type": "code",
   "execution_count": 197,
   "id": "fa9a1de0-0e53-4f8f-b445-d7cfe7262fa7",
   "metadata": {},
   "outputs": [
    {
     "name": "stdout",
     "output_type": "stream",
     "text": [
      "{'IIIIII': 0.5, 'IXIIII': 0.5, 'IIZIII': 0.5, 'IXZIII': -0.5}\n",
      "{'IIIIII': 0.5, 'IIIXII': 0.5, 'IIIIZI': 0.5, 'IIIXZI': -0.5}\n",
      "{'IIIIII': 0.5, 'IIZIII': 0.5, 'IZIIII': 0.5, 'IZZIII': -0.5}\n",
      "{'IIIIII': 0.5, 'IIIIZI': 0.5, 'IIIZII': 0.5, 'IIIZZI': -0.5}\n",
      "{'IIIIII': 0.5, 'IIZIII': 0.5, 'IZIIII': 0.5, 'IZZIII': -0.5}\n",
      "{'IIIIII': 0.5, 'IIIIZI': 0.5, 'IIIZII': 0.5, 'IIIZZI': -0.5}\n",
      "{'IIIIII': 0.5, 'IXIIII': 0.5, 'IIZIII': 0.5, 'IXZIII': -0.5}\n",
      "{'IIIIII': 0.5, 'IIIXII': 0.5, 'IIIIZI': 0.5, 'IIIXZI': -0.5}\n",
      "{'IIIIII': 0.5, 'IZIIII': 0.5, 'XIIIII': 0.5, 'XZIIII': -0.5}\n",
      "{'IIIIII': 0.5, 'IIIZII': 0.5, 'IIXIII': 0.5, 'IIXZII': -0.5}\n",
      "{'IIIIII': 0.5, 'IIIIIZ': 0.5, 'IIIIXI': 0.5, 'IIIIXZ': -0.5}\n",
      "{'IIIIII': 0.5, 'IZIIII': 0.5, 'ZIIIII': 0.5, 'ZZIIII': -0.5}\n",
      "{'IIIIII': 0.5, 'IIIZII': 0.5, 'IIZIII': 0.5, 'IIZZII': -0.5}\n",
      "{'IIIIII': 0.5, 'IIIIIZ': 0.5, 'IIIIZI': 0.5, 'IIIIZZ': -0.5}\n",
      "{'IIIIII': 0.5, 'IZIIII': 0.5, 'ZIIIII': 0.5, 'ZZIIII': -0.5}\n",
      "{'IIIIII': 0.5, 'IIIZII': 0.5, 'IIZIII': 0.5, 'IIZZII': -0.5}\n",
      "{'IIIIII': 0.5, 'IIIIIZ': 0.5, 'IIIIZI': 0.5, 'IIIIZZ': -0.5}\n",
      "{'IIIIII': 0.5, 'IZIIII': 0.5, 'XIIIII': 0.5, 'XZIIII': -0.5}\n",
      "{'IIIIII': 0.5, 'IIIZII': 0.5, 'IIXIII': 0.5, 'IIXZII': -0.5}\n",
      "{'IIIIII': 0.5, 'IIIIIZ': 0.5, 'IIIIXI': 0.5, 'IIIIXZ': -0.5}\n",
      "{'ZZZIII': 1.00000000000000, 'IZIIII': 1.00000000000000, 'IZXIII': 1.00000000000000, 'IIIZII': 1.00000000000000, 'IIIZXI': 1.00000000000000, 'IIXIII': -1.00000000000000, 'IIIZZZ': 1.00000000000000, 'IIIIZZ': 1.00000000000000, 'YYIIII': 1.00000000000000, 'XXZIII': 1.00000000000000, 'IXZXZI': 1.00000000000000, 'IYYXZI': 1.00000000000000, 'IIIXZX': 1.00000000000000, 'IZZZZI': 1.00000000000000, 'IIZZZI': 1.00000000000000, 'IIIYYX': 1.00000000000000, 'IYIYII': 1.00000000000000, 'IYXYII': -1.00000000000000, 'IIIIXI': -1.00000000000000, 'IIIYXY': -1.00000000000000, 'IIIYIY': 1.00000000000000}\n"
     ]
    }
   ],
   "source": [
    "for i in range(2):\n",
    "    A=Hamiltonian({\"I\"*(2*i+1)+\"II\"+\"I\"*(3-2*i):0.5,\n",
    "                   \"I\"*(2*i+1)+\"IZ\"+\"I\"*(3-2*i):0.5,\n",
    "                   \"I\"*(2*i+1)+\"ZI\"+\"I\"*(3-2*i):0.5,\n",
    "                   \"I\"*(2*i+1)+\"ZZ\"+\"I\"*(3-2*i):-0.5})\n",
    "    print(A)\n",
    "    H=A*H*A\n",
    "        \n",
    "for i in range(2):\n",
    "    if 0.25*np.pi < result.optimal_parameters[4-i]% (2*np.pi) < 0.75*np.pi:\n",
    "        A=Hamiltonian({\"I\"*12:np.sqrt(0.5),\"I\"*(3-2*i)+\"Y\"+\"I\"*(2*i+2):1j*np.sqrt(0.5)})\n",
    "        B=Hamiltonian({\"I\"*12:np.sqrt(0.5),\"I\"*(3-2*i)+\"Y\"+\"I\"*(2*i+2):-1j*np.sqrt(0.5)})\n",
    "        H=A*H*B\n",
    "    elif 0.75*np.pi < result.optimal_parameters[4-i]% (2*np.pi) < 1.25*np.pi:\n",
    "        A=Hamiltonian({\"I\"*(3-2*i)+\"Y\"+\"I\"*(2*i+2):1.0})\n",
    "        H=A*H*A\n",
    "    elif 1.25*np.pi < result.optimal_parameters[4-i]% (2*np.pi) < 1.75*np.pi:\n",
    "        A=Hamiltonian({\"I\"*12:np.sqrt(0.5),\"I\"*(3-2*i)+\"Y\"+\"I\"*(2*i+2):1j*np.sqrt(0.5)})\n",
    "        B=Hamiltonian({\"I\"*12:np.sqrt(0.5),\"I\"*(3-2*i)+\"Y\"+\"I\"*(2*i+2):-1j*np.sqrt(0.5)})\n",
    "        H=B*H*A\n",
    "    else:\n",
    "        H=H\n",
    "for i in range(2):\n",
    "    A=Hamiltonian({\"I\"*(2*i+1)+\"II\"+\"I\"*(3-2*i):0.5,\"I\"*(2*i+1)+\"IZ\"+\"I\"*(3-2*i):0.5,\"I\"*(2*i+1)+\"ZI\"+\"I\"*(3-2*i):0.5,\"I\"*(2*i+1)+\"ZZ\"+\"I\"*(3-2*i):-0.5})\n",
    "    print(A)\n",
    "    H=A*H*A\n",
    "        \n",
    "for i in range(2):\n",
    "    A=Hamiltonian({\"I\"*(2*i+1)+\"II\"+\"I\"*(3-2*i):0.5,\"I\"*(2*i+1)+\"XI\"+\"I\"*(3-2*i):0.5,\"I\"*(2*i+1)+\"IZ\"+\"I\"*(3-2*i):0.5,\"I\"*(2*i+1)+\"XZ\"+\"I\"*(3-2*i):-0.5})\n",
    "    print(A)\n",
    "    H=A*H*A\n",
    "    \n",
    "#operate cz\n",
    "for i in range(3):\n",
    "    A=Hamiltonian({\"I\"*(2*i)+\"II\"+\"I\"*(4-2*i):0.5,\"I\"*(2*i)+\"IZ\"+\"I\"*(4-2*i):0.5,\"I\"*(2*i)+\"XI\"+\"I\"*(4-2*i):0.5,\"I\"*(2*i)+\"XZ\"+\"I\"*(4-2*i):-0.5})\n",
    "    print(A)\n",
    "    H=A*H*A\n",
    "    \n",
    "\n",
    "for i in range(3):\n",
    "    if 0.25*np.pi < result.optimal_parameters[2-i]% (2*np.pi) < 0.75*np.pi:\n",
    "        A=Hamiltonian({\"I\"*12:np.sqrt(0.5),\"I\"*(4-2*i)+\"Y\"+\"I\"*(2*i+1):1j*np.sqrt(0.5)})\n",
    "        B=Hamiltonian({\"I\"*12:np.sqrt(0.5),\"I\"*(4-2*i)+\"Y\"+\"I\"*(2*i+1):-1j*np.sqrt(0.5)})\n",
    "        H=B*H*A\n",
    "    elif 0.75*np.pi < result.optimal_parameters[2-i]% (2*np.pi) < 1.25*np.pi:\n",
    "        A=Hamiltonian({\"I\"*(4-2*i)+\"Y\"+\"I\"*(2*i+1):1.0})\n",
    "        H=A*H*A\n",
    "    elif 1.25*np.pi < result.optimal_parameters[2-i]% (2*np.pi) < 1.75*np.pi:\n",
    "        A=Hamiltonian({\"I\"*12:np.sqrt(0.5),\"I\"*(4-2*i)+\"Y\"+\"I\"*(2*i+1):1j*np.sqrt(0.5)})\n",
    "        B=Hamiltonian({\"I\"*12:np.sqrt(0.5),\"I\"*(4-2*i)+\"Y\"+\"I\"*(2*i+1):-1j*np.sqrt(0.5)})\n",
    "        H=A*H*B\n",
    "    else:\n",
    "        H=H\n",
    "\n",
    "for i in range(3):\n",
    "    A=Hamiltonian({\"I\"*(2*i)+\"II\"+\"I\"*(4-2*i):0.5,\"I\"*(2*i)+\"IZ\"+\"I\"*(4-2*i):0.5,\"I\"*(2*i)+\"ZI\"+\"I\"*(4-2*i):0.5,\"I\"*(2*i)+\"ZZ\"+\"I\"*(4-2*i):-0.5})\n",
    "    print(A)\n",
    "    H=A*H*A\n",
    "        \n",
    "for i in range(3):\n",
    "    if 0.25*np.pi < result.optimal_parameters[2-i]% (2*np.pi) < 0.75*np.pi:\n",
    "        A=Hamiltonian({\"I\"*12:np.sqrt(0.5),\"I\"*(4-2*i)+\"Y\"+\"I\"*(2*i+1):1j*np.sqrt(0.5)})\n",
    "        B=Hamiltonian({\"I\"*12:np.sqrt(0.5),\"I\"*(4-2*i)+\"Y\"+\"I\"*(2*i+1):-1j*np.sqrt(0.5)})\n",
    "        H=A*H*B\n",
    "    elif 0.75*np.pi < result.optimal_parameters[2-i]% (2*np.pi) < 1.25*np.pi:\n",
    "        A=Hamiltonian({\"I\"*(4-2*i)+\"Y\"+\"I\"*(2*i+1):1.0})\n",
    "        H=A*H*A\n",
    "    elif 1.25*np.pi < result.optimal_parameters[2-i]% (2*np.pi) < 1.75*np.pi:\n",
    "        A=Hamiltonian({\"I\"*12:np.sqrt(0.5),\"I\"*(4-2*i)+\"Y\"+\"I\"*(2*i+1):1j*np.sqrt(0.5)})\n",
    "        B=Hamiltonian({\"I\"*12:np.sqrt(0.5),\"I\"*(4-2*i)+\"Y\"+\"I\"*(2*i+1):-1j*np.sqrt(0.5)})\n",
    "        H=B*H*A\n",
    "    else:\n",
    "        H=H\n",
    "        \n",
    "for i in range(3):\n",
    "    A=Hamiltonian({\"I\"*(2*i)+\"II\"+\"I\"*(4-2*i):0.5,\n",
    "                   \"I\"*(2*i)+\"IZ\"+\"I\"*(4-2*i):0.5,\n",
    "                   \"I\"*(2*i)+\"ZI\"+\"I\"*(4-2*i):0.5,\n",
    "                   \"I\"*(2*i)+\"ZZ\"+\"I\"*(4-2*i):-0.5})\n",
    "    print(A)\n",
    "    H=A*H*A\n",
    "        \n",
    "for i in range(3):\n",
    "    A=Hamiltonian({\"I\"*(2*i)+\"II\"+\"I\"*(4-2*i):0.5,\n",
    "                   \"I\"*(2*i)+\"IZ\"+\"I\"*(4-2*i):0.5,\n",
    "                   \"I\"*(2*i)+\"XI\"+\"I\"*(4-2*i):0.5,\n",
    "                   \"I\"*(2*i)+\"XZ\"+\"I\"*(4-2*i):-0.5})\n",
    "    print(A)\n",
    "    H=A*H*A\n",
    "        \n",
    "        \n",
    "print(H)"
   ]
  },
  {
   "cell_type": "code",
   "execution_count": 217,
   "id": "cc91ac43-4abe-4496-ae8e-273995a70051",
   "metadata": {
    "scrolled": true,
    "tags": []
   },
   "outputs": [
    {
     "name": "stdout",
     "output_type": "stream",
     "text": [
      "{'IIIIIIIIIIIIIIII': 0.0, 'IIIIIIIIIIIIIZZI': 1.0, 'IIIIIIIIIIIIZZII': 1.0, 'IIIIIIIIIIZIIZII': 1.0, 'IIIIIIIIIIZIZIII': 1.0, 'IIIIIIIZIIZIIIII': 1.0, 'IIIIZIIIIIZIIIII': 1.0, 'IIIIZIIZIIIIIIII': 1.0, 'IIIIIIIIIIIIIYYI': 1.0, 'IIIIIIIIIIIIYYII': 1.0, 'IIIIIIIIIIYIIYII': 1.0, 'IIIIIIIIIIYIYIII': 1.0, 'IIIIIIIYIIYIIIII': 1.0, 'IIIIYIIIIIYIIIII': 1.0, 'IIIIYIIYIIIIIIII': 1.0, 'IIIIIIIIIIIIIXXI': 1.0, 'IIIIIIIIIIIIXXII': 1.0, 'IIIIIIIIIIXIIXII': 1.0, 'IIIIIIIIIIXIXIII': 1.0, 'IIIIIIIXIIXIIIII': 1.0, 'IIIIXIIIIIXIIIII': 1.0, 'IIIIXIIXIIIIIIII': 1.0}\n",
      "operator= IIIIIIIIIIIIIIII\n",
      "coeff[ 0 ] 0.0\n",
      "operator= IIIIIIIIIIIIIZZI\n",
      "coeff[ 1 ] 1.0\n",
      "operator= IIIIIIIIIIIIZZII\n",
      "coeff[ 2 ] 1.0\n",
      "operator= IIIIIIIIIIZIIZII\n",
      "coeff[ 3 ] 1.0\n",
      "operator= IIIIIIIIIIZIZIII\n",
      "coeff[ 4 ] 1.0\n",
      "operator= IIIIIIIZIIZIIIII\n",
      "coeff[ 5 ] 1.0\n",
      "operator= IIIIZIIIIIZIIIII\n",
      "coeff[ 6 ] 1.0\n",
      "operator= IIIIZIIZIIIIIIII\n",
      "coeff[ 7 ] 1.0\n",
      "operator= IIIIIIIIIIIIIYYI\n",
      "coeff[ 8 ] 1.0\n",
      "operator= IIIIIIIIIIIIYYII\n",
      "coeff[ 9 ] 1.0\n",
      "operator= IIIIIIIIIIYIIYII\n",
      "coeff[ 10 ] 1.0\n",
      "operator= IIIIIIIIIIYIYIII\n",
      "coeff[ 11 ] 1.0\n",
      "operator= IIIIIIIYIIYIIIII\n",
      "coeff[ 12 ] 1.0\n",
      "operator= IIIIYIIIIIYIIIII\n",
      "coeff[ 13 ] 1.0\n",
      "operator= IIIIYIIYIIIIIIII\n",
      "coeff[ 14 ] 1.0\n",
      "operator= IIIIIIIIIIIIIXXI\n",
      "coeff[ 15 ] 1.0\n",
      "operator= IIIIIIIIIIIIXXII\n",
      "coeff[ 16 ] 1.0\n",
      "operator= IIIIIIIIIIXIIXII\n",
      "coeff[ 17 ] 1.0\n",
      "operator= IIIIIIIIIIXIXIII\n",
      "coeff[ 18 ] 1.0\n",
      "operator= IIIIIIIXIIXIIIII\n",
      "coeff[ 19 ] 1.0\n",
      "operator= IIIIXIIIIIXIIIII\n",
      "coeff[ 20 ] 1.0\n",
      "operator= IIIIXIIXIIIIIIII\n",
      "coeff[ 21 ] 1.0\n",
      "0.0 * IIIIIIIIIIIIIIII\n",
      "+ 1.0 * IIIIIIIIIIIIIZZI\n",
      "+ 1.0 * IIIIIIIIIIIIZZII\n",
      "+ 1.0 * IIIIIIIIIIZIIZII\n",
      "+ 1.0 * IIIIIIIIIIZIZIII\n",
      "+ 1.0 * IIIIIIIZIIZIIIII\n",
      "+ 1.0 * IIIIZIIIIIZIIIII\n",
      "+ 1.0 * IIIIZIIZIIIIIIII\n",
      "+ 1.0 * IIIIIIIIIIIIIYYI\n",
      "+ 1.0 * IIIIIIIIIIIIYYII\n",
      "+ 1.0 * IIIIIIIIIIYIIYII\n",
      "+ 1.0 * IIIIIIIIIIYIYIII\n",
      "+ 1.0 * IIIIIIIYIIYIIIII\n",
      "+ 1.0 * IIIIYIIIIIYIIIII\n",
      "+ 1.0 * IIIIYIIYIIIIIIII\n",
      "+ 1.0 * IIIIIIIIIIIIIXXI\n",
      "+ 1.0 * IIIIIIIIIIIIXXII\n",
      "+ 1.0 * IIIIIIIIIIXIIXII\n",
      "+ 1.0 * IIIIIIIIIIXIXIII\n",
      "+ 1.0 * IIIIIIIXIIXIIIII\n",
      "+ 1.0 * IIIIXIIIIIXIIIII\n",
      "+ 1.0 * IIIIXIIXIIIIIIII\n",
      "upforward is ham_eff\n"
     ]
    }
   ],
   "source": [
    "#apply for the 16 qubits device \n",
    "\n",
    "\n",
    "Heff=Hamiltonian({\"I\"*16:0.0})\n",
    "for operator, coeff in H.items():\n",
    "    operator=operator+\"I\"*10\n",
    "    operator_dum=Hamiltonian({\"I\"*16:1.0})\n",
    "    j=0\n",
    "    for i in q_layout:\n",
    "        operator_dum=operator_dum*Hamiltonian({\"I\"*(15-i)+operator[j]+\"I\"*(i):1.0})\n",
    "        j+=1\n",
    "    Heff=Heff+operator_dum*Hamiltonian({\"I\"*16:round(coeff)})\n",
    "\n",
    "print(Heff)\n",
    "\n",
    "n=0\n",
    "Heff_operator=\"\"\n",
    "\n",
    "Heff_coeff= np.zeros((22))\n",
    "\n",
    "for operator, coeff in Heff.items():\n",
    "    Heff_operator= Heff_operator + operator if Heff_operator == \"\" else Heff_operator+\" \"+operator \n",
    "    Heff_coeff[n]=coeff\n",
    "    print(\"operator=\",operator)\n",
    "    print(\"coeff[\",n,\"]\",Heff_coeff[n])\n",
    "    n+=1\n",
    "\n",
    "Heff_operator2 = Heff_operator.split()\n",
    "    \n",
    "import logging\n",
    "import numpy as np\n",
    "from fractions import Fraction\n",
    "from typing import Optional\n",
    "\n",
    "from qiskit_nature.second_q.operators import SpinOp\n",
    "from qiskit_nature.problems.second_quantization.lattice.lattices import Lattice\n",
    "from qiskit_nature.problems.second_quantization.lattice.models.lattice_model import LatticeModel\n",
    "\n",
    "from qiskit.circuit import ParameterVector\n",
    "from qiskit.quantum_info import SparsePauliOp\n",
    "\n",
    "#SparsePauliOp(Heff_operator2,np.array(Heff_coeff))\n",
    "ham_eff=PauliSumOp(SparsePauliOp(Heff_operator2,np.array(Heff_coeff)))\n",
    "\n",
    "#ham_eff=SpinOp({\"X_0\":0.0},spin=Fraction(1,2), num_spins=16)\n",
    "#for operator, coeff in Heff.items():\n",
    "#    operator_dum2=\"\"\n",
    "##    for i in range(len(operator)):\n",
    " #       if operator[i]==\"I\":\n",
    "#            continue\n",
    "#        else:\n",
    "#            operator_dum2 += operator[i] + \"_\" + str(i) if operator_dum2 == \"\" else \" \" + operator[i] + \"_\" + str(i)\n",
    "#    ham_eff = ham_eff + SpinOp({operator_dum2: coeff}, num_spins=16)\n",
    "\n",
    "print(ham_eff)\n",
    "print(\"upforward is ham_eff\")\n"
   ]
  },
  {
   "cell_type": "code",
   "execution_count": 218,
   "id": "2edab018-678e-4406-8152-7d18519b9bea",
   "metadata": {
    "tags": []
   },
   "outputs": [
    {
     "name": "stdout",
     "output_type": "stream",
     "text": [
      "VQE Lunning...\n",
      "-7.9089165969936985\n",
      "-7.90806899952193\n",
      "-7.931758968293096\n",
      "-7.917595453674148\n",
      "-7.8789785103180625\n",
      "-7.896471023118265\n",
      "-8.879705043902598\n",
      "-8.880550759383494\n",
      "-8.87702320273153\n",
      "-8.876675392504833\n",
      "-8.871673425934723\n",
      "-8.877029030040635\n",
      "-8.946442139408354\n",
      "-8.94669388240554\n",
      "-8.942845749795714\n",
      "-8.944698576866807\n",
      "-8.942217283131468\n",
      "-8.944192144241658\n",
      "-8.975619797160936\n",
      "-8.975645416313526\n",
      "-8.973237044107657\n",
      "-8.974345597937312\n",
      "-8.972535097022751\n",
      "-8.974032158361897\n",
      "-8.989285735581934\n",
      "-8.989284828741873\n",
      "-8.987584386807654\n",
      "-8.988387676470145\n",
      "-8.987113203365526\n",
      "-8.988143832240103\n",
      "-8.995568990686824\n",
      "-8.995567191498965\n",
      "-8.994362924281505\n",
      "-8.994930162302486\n",
      "-8.994023856600542\n",
      "-8.994754095843604\n",
      "-8.998327763171968\n",
      "-8.998327120840298\n",
      "-8.997469669563854\n",
      "-8.997873373265021\n",
      "-8.997228451991255\n",
      "-8.997746690525148\n",
      "-8.99942896067089\n",
      "-8.999428837518899\n",
      "-8.998818030094752\n",
      "-8.999105504904485\n",
      "-8.99864622229253\n",
      "-8.999014920519402\n",
      "-8.999776540252938\n",
      "-8.999776541011315\n",
      "-8.999341389870015\n",
      "-8.999546212406303\n",
      "-8.999219064700334\n",
      "-8.999481579420062\n",
      "-8.999802744973342\n",
      "-8.999802744084459\n",
      "-8.999492754298908\n",
      "-8.999638694868203\n",
      "-8.999405655185445\n",
      "-8.999592627314977\n",
      "-8.999709100747248\n",
      "-8.99970907926562\n",
      "-8.999488262315332\n",
      "-8.999592240485185\n",
      "-8.999426241788113\n",
      "-8.999559419035087\n",
      "-8.999585394875986\n",
      "-8.999585361042822\n",
      "-8.99942807003715\n",
      "-8.999502142580996\n",
      "-8.999383904160105\n",
      "-8.999478761648223\n",
      "-8.999468341516083\n",
      "-8.99946830499916\n",
      "-8.999356266190432\n",
      "-8.999409028337206\n",
      "-8.999324813032642\n",
      "-8.999392372746923\n",
      "-8.9993702726095\n",
      "-8.999370239177802\n",
      "-8.999290434213744\n",
      "-8.999328013204897\n",
      "-8.999268033446997\n",
      "-8.999316148087614\n",
      "-8.99929295829357\n",
      "-8.99929293030252\n",
      "-8.999236085590749\n",
      "-8.999262848537153\n",
      "-8.999220131281758\n",
      "-8.999254395689702\n",
      "-8.99923409902447\n",
      "-8.999234076815291\n",
      "-8.999193586620077\n",
      "-8.999212645474868\n",
      "-8.999182223291593\n",
      "-8.999206623316255\n",
      "-8.999190249391795\n",
      "{   'aux_operator_eigenvalues': None,\n",
      "    'cost_function_evals': 96,\n",
      "    'eigenstate': None,\n",
      "    'eigenvalue': -8.999190249391795,\n",
      "    'optimal_circuit': None,\n",
      "    'optimal_parameters': array([ 0.78039634,  0.77514993,  0.77467769, -0.01121627, -0.0118219 ]),\n",
      "    'optimal_point': None,\n",
      "    'optimal_value': None,\n",
      "    'optimizer_evals': None,\n",
      "    'optimizer_result': None,\n",
      "    'optimizer_time': None}\n",
      "{'ZZIIII': 1.0, 'IZZIII': 1.0, 'IZIZII': 1.0, 'IIZZII': 1.0, 'IIIZZI': 1.0, 'IIIZIZ': 1.0, 'IIIIZZ': 1.0, 'YYIIII': 1.0, 'IYYIII': 1.0, 'IYIYII': 1.0, 'IIYYII': 1.0, 'IIIYYI': 1.0, 'IIIYIY': 1.0, 'IIIIYY': 1.0, 'XXIIII': 1.0, 'IXXIII': 1.0, 'IXIXII': 1.0, 'IIXXII': 1.0, 'IIIXXI': 1.0, 'IIIXIX': 1.0, 'IIIIXX': 1.0}\n"
     ]
    }
   ],
   "source": [
    "optimizer=GradientDescent(maxiter=400, learning_rate=0.1, tol=10e-3)\n",
    "# Define instance of qiskit-terra's Estimator primitive\n",
    "estimator = Estimator([ansatz_opt], [ham_eff])\n",
    "\n",
    "# Setup VQE algorithm\n",
    "custom_vqe = CustomVQE(estimator, ansatz_opt, optimizer, callback=callback)\n",
    "print(\"VQE Lunning...\")\n",
    "# Run the custom VQE function and monitor execution time\n",
    "result = custom_vqe.compute_minimum_eigenvalue(ham_eff)\n",
    "\n",
    "print(result)\n",
    "print(H)"
   ]
  },
  {
   "cell_type": "code",
   "execution_count": 67,
   "id": "04beda9f-aa08-45fc-95a5-63dbf916d881",
   "metadata": {},
   "outputs": [
    {
     "data": {
      "image/png": "[encoded data removed]",
      "text/plain": [
       "<Figure size 640x480 with 1 Axes>"
      ]
     },
     "metadata": {},
     "output_type": "display_data"
    }
   ],
   "source": [
    "# Figureを設定\n",
    "fig = plt.figure()\n",
    "\n",
    "# グラフ描画領域を追加\n",
    "ax = fig.add_subplot(111)\n",
    "\n",
    "ax.set_ylim(-19.00,0.00)\n",
    "ax.set_xlim(0,2200)\n",
    "\n",
    "plt.plot(intermediate_info, color='purple', lw=2, label='Simulated VQE')\n",
    "plt.ylabel('Energy')\n",
    "plt.xlabel('Iterations')\n",
    "# Exact ground state energy value\n",
    "plt.axhline(y=gs_energy, color=\"tab:red\", ls=\"--\", lw=2, label=\"Target: \" + str(gs_energy))\n",
    "plt.legend()\n",
    "plt.grid()\n",
    "plt.show()"
   ]
  },
  {
   "cell_type": "code",
   "execution_count": 142,
   "id": "17fa9823-dd6f-40a5-938a-744662133b00",
   "metadata": {},
   "outputs": [
    {
     "name": "stdout",
     "output_type": "stream",
     "text": [
      "Expected ground state energy: -18.0000000000\n",
      "Computed ground state energy: -17.9988409711\n",
      "Relative error: 0.00006439\n"
     ]
    }
   ],
   "source": [
    "def rel_err(target, measured):\n",
    "    return abs((target - measured) / target)\n",
    "\n",
    "# Compute the relative error between the expected ground state energy and the VQE's output\n",
    "rel_error = rel_err(gs_energy, result.eigenvalue)\n",
    "\n",
    "print(f'Expected ground state energy: {gs_energy:.10f}')\n",
    "print(f'Computed ground state energy: {result.eigenvalue:.10f}')\n",
    "print(f'Relative error: {rel_error:.8f}')"
   ]
  },
  {
   "cell_type": "code",
   "execution_count": 143,
   "id": "1e42ae96-a23b-40dc-af63-f7067e708c98",
   "metadata": {},
   "outputs": [],
   "source": [
    "from qiskit_ibm_runtime import (QiskitRuntimeService, Session,\n",
    "                                Estimator as RuntimeEstimator)\n",
    "from qiskit import Aer\n",
    "\n",
    "# Save an IBM Quantum account. See docs for credential security warning\n",
    "# https://github.com/Qiskit/qiskit-ibm-runtime/tree/stable/0.7#saving-account-on-disk\n",
    "# QiskitRuntimeService.save_account(channel=\"ibm_quantum\", token=\"MY_IBM_QUANTUM_TOKEN\")\n",
    "service = QiskitRuntimeService(channel='ibm_quantum')"
   ]
  },
  {
   "cell_type": "code",
   "execution_count": 144,
   "id": "cd58da58-d42c-4a83-b72a-b289009e4004",
   "metadata": {},
   "outputs": [
    {
     "name": "stdout",
     "output_type": "stream",
     "text": [
      "Simulators: [<IBMBackend('ibmq_qasm_simulator')>, <IBMBackend('simulator_statevector')>, <IBMBackend('simulator_mps')>, <IBMBackend('simulator_extended_stabilizer')>, <IBMBackend('simulator_stabilizer')>]\n"
     ]
    }
   ],
   "source": [
    "# print available backend and select one\n",
    "print('Simulators:', service.backends(simulator=True))\n",
    "\n",
    "# Select a simulator backend\n",
    "backend = 'simulator_statevector'"
   ]
  },
  {
   "cell_type": "code",
   "execution_count": 145,
   "id": "82c84117-6239-42c2-964d-7a3df3f709e1",
   "metadata": {},
   "outputs": [],
   "source": [
    "# Define a simple callback function\n",
    "intermediate_info_sim_backend = []\n",
    "def callback_sim(value):\n",
    "        intermediate_info_sim_backend.append(value)"
   ]
  },
  {
   "cell_type": "code",
   "execution_count": 146,
   "id": "5f76c686-0975-4557-a652-17b5325124fa",
   "metadata": {},
   "outputs": [],
   "source": [
    "import signal, time\n",
    "\n",
    "from qiskit_ibm_runtime import Estimator, Session\n",
    "from qiskit.providers import JobStatus\n",
    "\n",
    "def timeout_handler(signum, frame):\n",
    "    raise Exception('Iteration timed out')\n",
    "    \n",
    "class RetryEstimator(Estimator):\n",
    "    \"\"\"RuntimeRetryEstimator class.\n",
    "    \n",
    "    This class inherits from Qiskit IBM Runtime's Estimator and overwrites its run method such that it retries calling it\n",
    "    a maximum of 'max_retries' consecutive times, if it encounters one of the following randomly occuring errors:\n",
    "    \n",
    "    * An Estimator error (in this case \"Job.ERROR\" is printed, and the job is cancelled automatically)\n",
    "    * A timeout error where the job either remains running or completes but does not return anything, for a time larger \n",
    "      than 'timeout' (in this case the job is cancelled by the patch and \"Job.CANCELLED\" is printed)\n",
    "    * A creation error, where the job fails to be created because connection is lost between the runtime server and the\n",
    "      quantum computer (in this case \"Failed to create job.\" is printed). If this error occurs, the patch connects the user\n",
    "      to a new Session (to be handled with care! also, this will unfortunately put the next job in the queue). \n",
    "    \"\"\"\n",
    "    \n",
    "    def __init__(self, *args, max_retries: int = 5, timeout: int = 3600, **kwargs) -> None:\n",
    "        super().__init__(*args, **kwargs)\n",
    "        self.max_retries = max_retries\n",
    "        self.timeout = timeout\n",
    "        self.backend = super().session._backend\n",
    "        signal.signal(signal.SIGALRM, timeout_handler)\n",
    "    \n",
    "    def run(self, circuits, observables, parameter_values, **kwargs):\n",
    "        result = None\n",
    "        for i in range(self.max_retries):\n",
    "            try:\n",
    "                job = super().run(circuits, observables, parameter_values, **kwargs)\n",
    "                while job.status() in [JobStatus.INITIALIZING, JobStatus.QUEUED, JobStatus.VALIDATING]:\n",
    "                    time.sleep(5) # Check every 5 seconds whether job status has changed\n",
    "                signal.alarm(self.timeout) # Once job starts running, set timeout to 1 hour by default\n",
    "                result = job.result()\n",
    "                if result is not None:\n",
    "                    signal.alarm(0) # reset timer\n",
    "                    return job\n",
    "            except Exception as e:\n",
    "                print(\"\\nSomething went wrong...\")\n",
    "                print(f\"\\n\\nERROR MESSAGE:\\n{e}\\n\\n\")\n",
    "                if 'job' in locals(): # Sometimes job fails to create\n",
    "                    print(f\"Job ID: {job.job_id}. Job status: {job.status()}.\")\n",
    "                    if job.status() not in [JobStatus.DONE, JobStatus.ERROR, JobStatus.CANCELLED]:\n",
    "                        job.cancel()\n",
    "                else:\n",
    "                    print(\"Failed to create job.\")\n",
    "                print(f\"Starting trial number {i+2}...\\n\")\n",
    "                print(f\"Creating new session...\\n\")\n",
    "                signal.alarm(0) # reset timer\n",
    "                super().session.close()\n",
    "                self._session = Session(backend=self.backend)\n",
    "        if result is None:\n",
    "            raise RuntimeError(f\"Program failed! Maximum number of retries ({self.max_retries}) exceeded\")"
   ]
  },
  {
   "cell_type": "code",
   "execution_count": 147,
   "id": "293371d8-25cf-4daf-944e-05fa38ba4156",
   "metadata": {},
   "outputs": [
    {
     "name": "stdout",
     "output_type": "stream",
     "text": [
      "Traceback \u001b[1;36m(most recent call last)\u001b[0m:\n",
      "\u001b[1;36m  Cell \u001b[1;32mIn[147], line 7\u001b[1;36m\n",
      "\u001b[1;33m    custom_vqe = CustomVQE(rt_estimator, ansatz_opt, optimizer, callback=callback_real)\u001b[1;36m\n",
      "\u001b[1;31mNameError\u001b[0m\u001b[1;31m:\u001b[0m name 'callback_real' is not defined\n",
      "\n",
      "Use %tb to get the full traceback.\n"
     ]
    },
    {
     "data": {
      "text/html": [
       "\n",
       "<style>\n",
       ".button {\n",
       "  border: none;\n",
       "  color: white;\n",
       "  padding: 4px 8px;\n",
       "  text-align: center;\n",
       "  text-decoration: none;\n",
       "  display: inline-block;\n",
       "  font-size: 12px;\n",
       "  margin: 4px 2px;\n",
       "  transition-duration: 0.2s;\n",
       "  cursor: pointer;\n",
       "}\n",
       ".iqx-button {\n",
       "  background-color: #0f62fe; \n",
       "  color: white; \n",
       "}\n",
       ".iqx-button:hover {\n",
       "  background-color: #0043ce;\n",
       "  color: white;\n",
       "}\n",
       "</style>\n",
       "<a href=\"https://stackoverflow.com/search?q=NameError: name 'callback_real' is not defined\" target='_blank'><button class='button iqx-button'>Search for solution online</button></a>\n"
      ],
      "text/plain": [
       "<IPython.core.display.HTML object>"
      ]
     },
     "metadata": {},
     "output_type": "display_data"
    }
   ],
   "source": [
    "# Setup Estimator with session error handling reconnection work around\n",
    "start = time.time()\n",
    "with Session(service=service, backend=backend) as session:\n",
    "    # Prepare extended primitive\n",
    "    rt_estimator = RetryEstimator(session=session)\n",
    "    # set up algorithm\n",
    "    custom_vqe = CustomVQE(rt_estimator, ansatz_opt, optimizer, callback=callback_real)\n",
    "    # run algorithm\n",
    "    result = custom_vqe.compute_minimum_eigenvalue(ham_16)\n",
    "end = time.time()\n",
    "print(f'execution time (s): {end - start:.2f}')"
   ]
  },
  {
   "cell_type": "code",
   "execution_count": 130,
   "id": "3be7fe16-6208-4e07-aa69-845baa874257",
   "metadata": {},
   "outputs": [],
   "source": [
    "# # Setup Estimator (standard method)\n",
    "# start = time()\n",
    "# with Session(service=service, backend=backend) as session:\n",
    "#     # Prepare primitive\n",
    "#     rt_estimator = RuntimeEstimator(session=session)\n",
    "#     # Set up algorithm\n",
    "#     custom_vqe = CustomVQE(rt_estimator, ansatz_opt, optimizer, callback=callback_sim)\n",
    "#     # Run algorithm\n",
    "#     result = custom_vqe.compute_minimum_eigenvalue(ham_16)\n",
    "# end = time()\n",
    "# print(f'execution time (s): {end - start:.2f}')"
   ]
  },
  {
   "cell_type": "code",
   "execution_count": 131,
   "id": "a35dc309-ea85-42c3-8897-50e4e5a22625",
   "metadata": {},
   "outputs": [
    {
     "data": {
      "image/png": "[encoded data removed]",
      "text/plain": [
       "<Figure size 640x480 with 1 Axes>"
      ]
     },
     "metadata": {},
     "output_type": "display_data"
    }
   ],
   "source": [
    "plt.plot(intermediate_info_sim_backend, color='purple', lw=2, label='Simulated VQE')\n",
    "plt.ylabel('Energy')\n",
    "plt.xlabel('Iterations')\n",
    "plt.axhline(y=gs_energy, color=\"tab:red\", ls=\"--\", lw=2, label=\"Target: \" + str(gs_energy))\n",
    "plt.legend()\n",
    "plt.grid()\n",
    "plt.show()"
   ]
  },
  {
   "cell_type": "code",
   "execution_count": 74,
   "id": "0ca08bb6",
   "metadata": {},
   "outputs": [
    {
     "name": "stdout",
     "output_type": "stream",
     "text": [
      "Expected ground state energy: -18.0000000000\n",
      "Computed ground state energy: -5.8767353505\n",
      "Relative error: 0.67351470\n"
     ]
    }
   ],
   "source": [
    "# Compute the relative error between the expected ground state energy and the measured\n",
    "rel_error = rel_err(gs_energy, result.eigenvalue)\n",
    "\n",
    "print(f'Expected ground state energy: {gs_energy:.10f}')\n",
    "print(f'Computed ground state energy: {result.eigenvalue:.10f}')\n",
    "print(f'Relative error: {rel_error:.8f}')"
   ]
  },
  {
   "cell_type": "code",
   "execution_count": null,
   "id": "6c51cbf0",
   "metadata": {},
   "outputs": [],
   "source": [
    "## 3-2 Qiskit runtime Real backend (ibmq_guadalupe)\n",
    "\n",
    "If our `qiskit_ibm_runtime` code is working on the cloud simulator backend, we can simply change the backend to the ibmq_guadalupe to run on the real backend. This may take a couple hours. Your performance score will be determined by the calculated relative error between the true ground state energy of -18.0 and the measured energy from the real ibmq_guadalupe backend."
   ]
  },
  {
   "cell_type": "code",
   "execution_count": 75,
   "id": "3d14c493-4bdc-4142-9c3c-de6ccd9150d7",
   "metadata": {},
   "outputs": [
    {
     "name": "stderr",
     "output_type": "stream",
     "text": [
      "/opt/conda/lib/python3.10/site-packages/qiskit_ibm_runtime/qiskit_runtime_service.py:448: UserWarning: Default hub/group/project ibm-q-community/ibmquantumawards/open-science-22 not found for the account and is ignored.\n",
      "  warnings.warn(\n"
     ]
    }
   ],
   "source": [
    "# service = QiskitRuntimeService(channel='ibm_quantum')\n",
    "service = QiskitRuntimeService(\n",
    "    channel='ibm_quantum',\n",
    "    instance='ibm-q-community/ibmquantumawards/open-science-22',\n",
    ")\n",
    "\n",
    "backend = 'ibmq_guadalupe'"
   ]
  },
  {
   "cell_type": "code",
   "execution_count": 76,
   "id": "9925cf63-088c-421d-995b-98691595e864",
   "metadata": {},
   "outputs": [],
   "source": [
    "# Define a simple callback function\n",
    "intermediate_info_real_backend = []\n",
    "def callback_real(value):\n",
    "        intermediate_info_real_backend.append(value)"
   ]
  },
  {
   "cell_type": "code",
   "execution_count": 77,
   "id": "b0270a9d-996e-4230-a063-0fd22aa1a7bd",
   "metadata": {},
   "outputs": [],
   "source": [
    "import signal, time\n",
    "\n",
    "from qiskit_ibm_runtime import Estimator, Session\n",
    "from qiskit.providers import JobStatus\n",
    "\n",
    "def timeout_handler(signum, frame):\n",
    "    raise Exception('Iteration timed out')\n",
    "    \n",
    "class RetryEstimator(Estimator):\n",
    "    \"\"\"RuntimeRetryEstimator class.\n",
    "    \n",
    "    This class inherits from Qiskit IBM Runtime's Estimator and overwrites its run method such that it retries calling it\n",
    "    a maximum of 'max_retries' consecutive times, if it encounters one of the following randomly occuring errors:\n",
    "    \n",
    "    * An Estimator error (in this case \"Job.ERROR\" is printed, and the job is cancelled automatically)\n",
    "    * A timeout error where the job either remains running or completes but does not return anything, for a time larger \n",
    "      than 'timeout' (in this case the job is cancelled by the patch and \"Job.CANCELLED\" is printed)\n",
    "    * A creation error, where the job fails to be created because connection is lost between the runtime server and the\n",
    "      quantum computer (in this case \"Failed to create job.\" is printed). If this error occurs, the patch connects the user\n",
    "      to a new Session (to be handled with care! also, this will unfortunately put the next job in the queue). \n",
    "    \"\"\"\n",
    "    \n",
    "    def __init__(self, *args, max_retries: int = 5, timeout: int = 3600, **kwargs) -> None:\n",
    "        super().__init__(*args, **kwargs)\n",
    "        self.max_retries = max_retries\n",
    "        self.timeout = timeout\n",
    "        self.backend = super().session._backend\n",
    "        signal.signal(signal.SIGALRM, timeout_handler)\n",
    "    \n",
    "    def run(self, circuits, observables, parameter_values, **kwargs):\n",
    "        result = None\n",
    "        for i in range(self.max_retries):\n",
    "            try:\n",
    "                job = super().run(circuits, observables, parameter_values, **kwargs)\n",
    "                while job.status() in [JobStatus.INITIALIZING, JobStatus.QUEUED, JobStatus.VALIDATING]:\n",
    "                    time.sleep(5) # Check every 5 seconds whether job status has changed\n",
    "                signal.alarm(self.timeout) # Once job starts running, set timeout to 1 hour by default\n",
    "                result = job.result()\n",
    "                if result is not None:\n",
    "                    signal.alarm(0) # reset timer\n",
    "                    return job\n",
    "            except Exception as e:\n",
    "                print(\"\\nSomething went wrong...\")\n",
    "                print(f\"\\n\\nERROR MESSAGE:\\n{e}\\n\\n\")\n",
    "                if 'job' in locals(): # Sometimes job fails to create\n",
    "                    print(f\"Job ID: {job.job_id}. Job status: {job.status()}.\")\n",
    "                    if job.status() not in [JobStatus.DONE, JobStatus.ERROR, JobStatus.CANCELLED]:\n",
    "                        job.cancel()\n",
    "                else:\n",
    "                    print(\"Failed to create job.\")\n",
    "                print(f\"Starting trial number {i+2}...\\n\")\n",
    "                print(f\"Creating new session...\\n\")\n",
    "                signal.alarm(0) # reset timer\n",
    "                super().session.close()\n",
    "                self._session = Session(backend=self.backend)\n",
    "        if result is None:\n",
    "            raise RuntimeError(f\"Program failed! Maximum number of retries ({self.max_retries}) exceeded\")"
   ]
  },
  {
   "cell_type": "code",
   "execution_count": 78,
   "id": "f9d08c41-806d-4222-89a5-c1f9e025635e",
   "metadata": {},
   "outputs": [
    {
     "name": "stdout",
     "output_type": "stream",
     "text": [
      "\n",
      "Something went wrong...\n",
      "\n",
      "\n",
      "ERROR MESSAGE:\n",
      "'Backend ibmq_guadalupe cannot be found in any hub/group/project for this account.'\n",
      "\n",
      "\n",
      "Failed to create job.\n",
      "Starting trial number 2...\n",
      "\n",
      "Creating new session...\n",
      "\n",
      "\n",
      "Something went wrong...\n",
      "\n",
      "\n",
      "ERROR MESSAGE:\n",
      "'Backend ibmq_guadalupe cannot be found in any hub/group/project for this account.'\n",
      "\n",
      "\n",
      "Failed to create job.\n",
      "Starting trial number 3...\n",
      "\n",
      "Creating new session...\n",
      "\n",
      "\n",
      "Something went wrong...\n",
      "\n",
      "\n",
      "ERROR MESSAGE:\n",
      "'Backend ibmq_guadalupe cannot be found in any hub/group/project for this account.'\n",
      "\n",
      "\n",
      "Failed to create job.\n",
      "Starting trial number 4...\n",
      "\n",
      "Creating new session...\n",
      "\n",
      "\n",
      "Something went wrong...\n",
      "\n",
      "\n",
      "ERROR MESSAGE:\n",
      "'Backend ibmq_guadalupe cannot be found in any hub/group/project for this account.'\n",
      "\n",
      "\n",
      "Failed to create job.\n",
      "Starting trial number 5...\n",
      "\n",
      "Creating new session...\n",
      "\n",
      "\n",
      "Something went wrong...\n",
      "\n",
      "\n",
      "ERROR MESSAGE:\n",
      "'Backend ibmq_guadalupe cannot be found in any hub/group/project for this account.'\n",
      "\n",
      "\n",
      "Failed to create job.\n",
      "Starting trial number 6...\n",
      "\n",
      "Creating new session...\n",
      "\n",
      "Traceback \u001b[1;36m(most recent call last)\u001b[0m:\n",
      "\u001b[0m  Cell \u001b[0;32mIn[78], line 9\u001b[0m\n",
      "    result = custom_vqe.compute_minimum_eigenvalue(ham_16)\u001b[0m\n",
      "\u001b[0m  Cell \u001b[0;32mIn[61], line 32\u001b[0m in \u001b[0;35mcompute_minimum_eigenvalue\u001b[0m\n",
      "    res = self._optimizer.minimize(objective, x0=x0)\u001b[0m\n",
      "\u001b[0m  File \u001b[0;32m/opt/conda/lib/python3.10/site-packages/qiskit/algorithms/optimizers/spsa.py:512\u001b[0m in \u001b[0;35mminimize\u001b[0m\n",
      "    get_eta, get_eps = self.calibrate(fun, x0, max_evals_grouped=self._max_evals_grouped)\u001b[0m\n",
      "\u001b[0m  File \u001b[0;32m/opt/conda/lib/python3.10/site-packages/qiskit/algorithms/optimizers/spsa.py:333\u001b[0m in \u001b[0;35mcalibrate\u001b[0m\n",
      "    losses = _batch_evaluate(loss, points, max_evals_grouped)\u001b[0m\n",
      "\u001b[0m  File \u001b[0;32m/opt/conda/lib/python3.10/site-packages/qiskit/algorithms/optimizers/spsa.py:724\u001b[0m in \u001b[0;35m_batch_evaluate\u001b[0m\n",
      "    return [\u001b[0m\n",
      "\u001b[0m  File \u001b[0;32m/opt/conda/lib/python3.10/site-packages/qiskit/algorithms/optimizers/spsa.py:725\u001b[0m in \u001b[0;35m<listcomp>\u001b[0m\n",
      "    function(*point) if isinstance(point, tuple) else function(point) for point in points\u001b[0m\n",
      "\u001b[0m  Cell \u001b[0;32mIn[61], line 18\u001b[0m in \u001b[0;35mobjective\u001b[0m\n",
      "    job = self._estimator.run([self._circuit], [operators], [x])\u001b[0m\n",
      "\u001b[1;36m  Cell \u001b[1;32mIn[77], line 57\u001b[1;36m in \u001b[1;35mrun\u001b[1;36m\n",
      "\u001b[1;33m    raise RuntimeError(f\"Program failed! Maximum number of retries ({self.max_retries}) exceeded\")\u001b[1;36m\n",
      "\u001b[1;31mRuntimeError\u001b[0m\u001b[1;31m:\u001b[0m Program failed! Maximum number of retries (5) exceeded\n",
      "\n",
      "Use %tb to get the full traceback.\n"
     ]
    },
    {
     "data": {
      "text/html": [
       "\n",
       "<style>\n",
       ".button {\n",
       "  border: none;\n",
       "  color: white;\n",
       "  padding: 4px 8px;\n",
       "  text-align: center;\n",
       "  text-decoration: none;\n",
       "  display: inline-block;\n",
       "  font-size: 12px;\n",
       "  margin: 4px 2px;\n",
       "  transition-duration: 0.2s;\n",
       "  cursor: pointer;\n",
       "}\n",
       ".iqx-button {\n",
       "  background-color: #0f62fe; \n",
       "  color: white; \n",
       "}\n",
       ".iqx-button:hover {\n",
       "  background-color: #0043ce;\n",
       "  color: white;\n",
       "}\n",
       "</style>\n",
       "<a href=\"https://stackoverflow.com/search?q=RuntimeError: Program failed! Maximum number of retries (5) exceeded\" target='_blank'><button class='button iqx-button'>Search for solution online</button></a>\n"
      ],
      "text/plain": [
       "<IPython.core.display.HTML object>"
      ]
     },
     "metadata": {},
     "output_type": "display_data"
    }
   ],
   "source": [
    "# Setup Estimator with session error handling reconnection work around\n",
    "start = time.time()\n",
    "with Session(service=service, backend=backend) as session:\n",
    "    # Prepare extended primitive\n",
    "    rt_estimator = RetryEstimator(session=session)\n",
    "    # set up algorithm\n",
    "    custom_vqe = CustomVQE(rt_estimator, ansatz_opt, optimizer, callback=callback_real)\n",
    "    # run algorithm\n",
    "    result = custom_vqe.compute_minimum_eigenvalue(ham_16)\n",
    "end = time.time()\n",
    "print(f'execution time (s): {end - start:.2f}')"
   ]
  },
  {
   "cell_type": "code",
   "execution_count": 79,
   "id": "95b2a311-0acd-4a9f-b915-2733e08f4d50",
   "metadata": {},
   "outputs": [],
   "source": [
    "# # Setup Estimator\n",
    "# start = time()\n",
    "# with Session(service=service, backend=backend) as session:\n",
    "#     # Prepare primitive\n",
    "#     rt_estimator = RuntimeEstimator(session=session)\n",
    "#     # set up algorithm\n",
    "#     custom_vqe = CustomVQE(rt_estimator, ansatz_opt, optimizer, callback=callback_real)\n",
    "#     # run algorithm\n",
    "#     result = custom_vqe.compute_minimum_eigenvalue(ham_16)\n",
    "# end = time()\n",
    "# print(f'execution time (s): {end - start:.2f}')"
   ]
  },
  {
   "cell_type": "code",
   "execution_count": 80,
   "id": "a0a9c908-d6bf-4e6a-ac77-dc130c7667db",
   "metadata": {},
   "outputs": [
    {
     "data": {
      "image/png": "[encoded data removed]",
      "text/plain": [
       "<Figure size 640x480 with 1 Axes>"
      ]
     },
     "metadata": {},
     "output_type": "display_data"
    }
   ],
   "source": [
    "plt.plot(intermediate_info_real_backend, color='purple', lw=2, label='VQE')\n",
    "plt.ylabel('Energy')\n",
    "plt.xlabel('Iterations')\n",
    "plt.axhline(y=gs_energy, color=\"tab:red\", ls=\"--\", lw=2, label=\"Target: \" + str(gs_energy))\n",
    "plt.legend()\n",
    "plt.grid()\n",
    "plt.show()"
   ]
  },
  {
   "cell_type": "code",
   "execution_count": null,
   "id": "7ae2ea8e",
   "metadata": {},
   "outputs": [],
   "source": [
    "## 3-3 Performance Score\n",
    "Compute the relative error between the expected ground state energy and the VQE result."
   ]
  },
  {
   "cell_type": "code",
   "execution_count": 81,
   "id": "46ef4ecd-547f-43d0-b184-e7f82680f50d",
   "metadata": {},
   "outputs": [
    {
     "name": "stdout",
     "output_type": "stream",
     "text": [
      "Traceback \u001b[1;36m(most recent call last)\u001b[0m:\n",
      "\u001b[1;36m  Cell \u001b[1;32mIn[81], line 2\u001b[1;36m\n",
      "\u001b[1;33m    computed_gse = intermediate_info_real_backend[-1]\u001b[1;36m\n",
      "\u001b[1;31mIndexError\u001b[0m\u001b[1;31m:\u001b[0m list index out of range\n",
      "\n",
      "Use %tb to get the full traceback.\n"
     ]
    },
    {
     "data": {
      "text/html": [
       "\n",
       "<style>\n",
       ".button {\n",
       "  border: none;\n",
       "  color: white;\n",
       "  padding: 4px 8px;\n",
       "  text-align: center;\n",
       "  text-decoration: none;\n",
       "  display: inline-block;\n",
       "  font-size: 12px;\n",
       "  margin: 4px 2px;\n",
       "  transition-duration: 0.2s;\n",
       "  cursor: pointer;\n",
       "}\n",
       ".iqx-button {\n",
       "  background-color: #0f62fe; \n",
       "  color: white; \n",
       "}\n",
       ".iqx-button:hover {\n",
       "  background-color: #0043ce;\n",
       "  color: white;\n",
       "}\n",
       "</style>\n",
       "<a href=\"https://stackoverflow.com/search?q=IndexError: list index out of range\" target='_blank'><button class='button iqx-button'>Search for solution online</button></a>\n"
      ],
      "text/plain": [
       "<IPython.core.display.HTML object>"
      ]
     },
     "metadata": {},
     "output_type": "display_data"
    }
   ],
   "source": [
    "# Compute the relative error between the expected ground state energy and the measured\n",
    "computed_gse = intermediate_info_real_backend[-1]\n",
    "\n",
    "print(f'Expected ground state energy: {gs_energy:.8f}')\n",
    "print(f'Computed ground state energy: {computed_gse:.8f}')\n",
    "print(f'Relative error: {100 * rel_err(gs_energy, computed_gse):.8f} %')"
   ]
  },
  {
   "cell_type": "markdown",
   "id": "fa042c72",
   "metadata": {},
   "source": [
    "# Considerations\n",
    "Feeling stuck? Below are a list of questions and considerations to help spark new ideas for your VQE implementation.\n",
    "\n",
    "**Ansatz.** Carefully consult research literature for the best approach of ansatz selection. How might errors affect your ansatz? How many parameters are needed to reach the ground state? What properties of the Hamiltonian could help simplify the ansatz?\n",
    "\n",
    "**Classical optimizer.** What optimizer will pair well with for your choice of ansatz and measurement parameters? What noise do you expect from the quantum computer, and what noise sensitivity can the classical optimizer withstand? How many iterations will be needed?\n",
    "\n",
    "**Initial state/point.** Is there an initial quantum state that really helps things get going? What about a starting point for the circuit parameters? Does the VQE give the same results for different initial parameter values?\n",
    "\n",
    "**Number of measurements.** How does the number of shots affect the VQE's convergence to the ground state energy? The expectation value of the Hamiltonian is a sum of the expectation values of each of the 54 terms. What is the least number of circuit executions necessary to compute the expectation value of the Hamiltonian? What is the optimal number of circuit executions for stable convergence?\n",
    "\n",
    "**Many qubits.** Working with larger numbers of qubits is its own challenge. For example, what's a concise way of writing down or even visualizing the 4096 digit ground state? What methods and techniques will not scale well? What techniques would scale well if this VQE were to be done on a larger system? How can you reduce your execution time of the real device?\n",
    "\n",
    "**Error mitigation.** What errors are most prevalent, and how can you reduce them efficiently? What error mitigation techniques will scale well?"
   ]
  },
  {
   "cell_type": "code",
   "execution_count": 153,
   "id": "10a0d2c6-091a-439c-864a-8d791a39eec9",
   "metadata": {},
   "outputs": [
    {
     "data": {
      "text/plain": [
       "'0.9.1'"
      ]
     },
     "execution_count": 153,
     "metadata": {},
     "output_type": "execute_result"
    }
   ],
   "source": [
    "import qiskit_ibm_runtime\n",
    "qiskit_ibm_runtime.version.get_version_info()"
   ]
  },
  {
   "cell_type": "code",
   "execution_count": 154,
   "id": "6044f597-1557-4a1a-8f00-d22ce4ff3a10",
   "metadata": {
    "tags": []
   },
   "outputs": [
    {
     "data": {
      "text/html": [
       "<h3>Version Information</h3><table><tr><th>Qiskit Software</th><th>Version</th></tr><tr><td><code>qiskit-terra</code></td><td>0.23.3</td></tr><tr><td><code>qiskit-aer</code></td><td>0.12.0</td></tr><tr><td><code>qiskit-ibmq-provider</code></td><td>0.20.2</td></tr><tr><td><code>qiskit</code></td><td>0.42.1</td></tr><tr><td><code>qiskit-nature</code></td><td>0.5.2</td></tr><tr><td><code>qiskit-finance</code></td><td>0.3.4</td></tr><tr><td><code>qiskit-optimization</code></td><td>0.5.0</td></tr><tr><td><code>qiskit-machine-learning</code></td><td>0.5.0</td></tr><tr><th>System information</th></tr><tr><td>Python version</td><td>3.10.8</td></tr><tr><td>Python compiler</td><td>GCC 10.4.0</td></tr><tr><td>Python build</td><td>main, Nov 22 2022 08:26:04</td></tr><tr><td>OS</td><td>Linux</td></tr><tr><td>CPUs</td><td>8</td></tr><tr><td>Memory (Gb)</td><td>31.211318969726562</td></tr><tr><td colspan='2'>Fri Apr 07 12:19:43 2023 UTC</td></tr></table>"
      ],
      "text/plain": [
       "<IPython.core.display.HTML object>"
      ]
     },
     "metadata": {},
     "output_type": "display_data"
    }
   ],
   "source": [
    "import qiskit.tools.jupyter\n",
    "%qiskit_version_table"
   ]
  },
  {
   "cell_type": "code",
   "execution_count": null,
   "id": "61ddc443-eefc-4907-a557-f88aafda8917",
   "metadata": {},
   "outputs": [],
   "source": []
  }
 ],
 "metadata": {
  "kernelspec": {
   "display_name": "Python 3 (ipykernel)",
   "language": "python",
   "name": "python3"
  },
  "language_info": {
   "codemirror_mode": {
    "name": "ipython",
    "version": 3
   },
   "file_extension": ".py",
   "mimetype": "text/x-python",
   "name": "python",
   "nbconvert_exporter": "python",
   "pygments_lexer": "ipython3",
   "version": "3.9.7"
  },
  "widgets": {
   "application/vnd.jupyter.widget-state+json": {
    "state": {},
    "version_major": 2,
    "version_minor": 0
   }
  }
 },
 "nbformat": 4,
 "nbformat_minor": 5
}
