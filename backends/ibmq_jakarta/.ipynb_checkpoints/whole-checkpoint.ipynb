{
 "cells": [
  {
   "cell_type": "code",
   "execution_count": 1,
   "id": "a09e57bd",
   "metadata": {},
   "outputs": [
    {
     "data": {
      "text/plain": [
       "'/Users/yangbo/Documents/projects/qamp_gse/test/ipynb/gse_vqe/fake_backends'"
      ]
     },
     "execution_count": 1,
     "metadata": {},
     "output_type": "execute_result"
    }
   ],
   "source": [
    "%pwd"
   ]
  },
  {
   "cell_type": "markdown",
   "id": "279d117c",
   "metadata": {},
   "source": [
    "# COMMON --- LIBRARIES AND UTILS"
   ]
  },
  {
   "cell_type": "code",
   "execution_count": 2,
   "id": "fed6f97c",
   "metadata": {},
   "outputs": [],
   "source": [
    "import sys, pickle, time, importlib\n",
    "sys.path.append(\"../\")\n",
    "from pprint import pprint\n",
    "import numpy as np\n",
    "np.random.seed(42)\n",
    "np.set_printoptions(threshold=sys.maxsize)\n",
    "import scipy as spy\n",
    "%matplotlib inline\n",
    "import matplotlib.pyplot as plt\n",
    "plt.style.use(\"ggplot\")"
   ]
  },
  {
   "cell_type": "markdown",
   "id": "3299b8ec",
   "metadata": {},
   "source": [
    "### Define Hamiltonian class\n",
    "\n",
    "Here we are using our original `Hamiltonian` which can take its exponentiation.\n",
    "This class can be replaced by `qiskit.opflow` in the future."
   ]
  },
  {
   "cell_type": "markdown",
   "id": "a31f0112",
   "metadata": {},
   "source": [
    "### Define the class and function for density matrix\n",
    "\n",
    "Here we are extending the `qiskit.DensityMatrix` to `ExtendedDM` class, by adding matrix multiplication and matrix exponentiation.\n",
    "For other functions, we defined\n",
    "- `pauli_str_to_dm(pauli_str) -> ExtendedDM`\n",
    "- `hamiltonian_to_dm(hamiltonian) -> ExtendedDM`\n",
    "- `add_observable_to_dm(density_matrix: DensityMatrix, basis: str, dm_endian: str = \"big_endian\", basis_endian: str = \"little_endian\") -> ExtendedDM`\n",
    "- `dm_to_hist(density_matrix: DensityMatrix, dm_endian: str = \"big_endian\", hist_endian: str = \"big_endian\") -> Counts`\n",
    "- `dms_to_hists(dm_list: List[DensityMatrix],  dm_endian: str = \"big_endian\", hist_endian: str = \"big_endian\") -> List[Counts]`\n",
    "- `get_density_matrices(result: Result) -> List[DensityMatrix]`"
   ]
  },
  {
   "cell_type": "code",
   "execution_count": 3,
   "id": "afd311e6",
   "metadata": {},
   "outputs": [],
   "source": [
    "from utils import *"
   ]
  },
  {
   "cell_type": "markdown",
   "id": "2a86eb94",
   "metadata": {},
   "source": [
    "# COMMON --- DSP\n",
    "\n",
    "Here we are defining the functions for dual-state purification."
   ]
  },
  {
   "cell_type": "markdown",
   "id": "a294964e",
   "metadata": {},
   "source": [
    "### Define supporting functions for encoders of DSP\n",
    "The function `update_observable_dsp` can output the DSP quantum circuit for a given observable.\n",
    "To make it hardware-efficient, we have to feed the `connection_graph` which indicates how the qubits are physically connected.\n",
    "The function `make_connection_order` will find a best way to apply the two qubit gates among qubits which are sparsely connected, while this is kept to be an identity function so far.\n",
    "\n",
    "- `make_connection_order(z_index: int, connection_graph: List[List[int]])`\n",
    "- `update_observable_dsp(observable: Union[QuantumCircuit, Gate, str], z_index: int, connection_graph: List[List[int]]) -> QuantumCircuit`"
   ]
  },
  {
   "cell_type": "markdown",
   "id": "52a59c00",
   "metadata": {},
   "source": [
    "### Define encoder functions of DSP\n",
    "\n",
    "The function `make_qc_dsp_ancilla` creates and outputs the DSP quantum circuit given a target state, its dual state, and an observable.\n",
    "There are three options for adding the quantum circuit for dual state:\n",
    "- if we feed `qc_v_inv`, it directly use the quantum cirucit `qc_v_inv` as the inverse circuit of dual state.\n",
    "- if we feed `qc_v_dual` instead of `qc_v_inv`, it takes inverse operation \n",
    "- if we do not specify any of `qc_v_dual` or `qc_v_inv`, then this function will automatically take the inverse operation of `qc_u`.\n",
    "\n",
    "Other Attributes\n",
    "- `qc_name`: specifies whether the obsevable is identity or not.\n",
    "- `measurement`: if `measurement == False`, the function will return the quantum circuit without measurement operations with computational basis.\n",
    "- `z_index`: indicates which qubit is to be directly connected with the ancilla qubit.\n",
    "- `connection_graph`: indicates how the physical qubits are connected.\n",
    "- `barrier`: decides barriers are inserted among the quantum gates in the circutis.\n",
    "\n",
    "```python\n",
    "make_qc_dsp_ancilla(qc_u: QuantumCircuit = None, \n",
    "                    qc_v_dual: QuantumCircuit = None, \n",
    "                    qc_v_inv: QuantumCircuit = None,\n",
    "                    observable: Union[QuantumCircuit, Gate, str] = None, \n",
    "                    qc_name: str = None, \n",
    "                    measurement: bool = True,\n",
    "                    z_index: int = None,\n",
    "                    connection_graph: List[List[int]] = None,\n",
    "                    barrier: bool = False) -> QuantumCircuit\n",
    "```"
   ]
  },
  {
   "cell_type": "markdown",
   "id": "d2ba080d",
   "metadata": {},
   "source": [
    "### Define supporting functions for decoders of DSP\n",
    "These supporting functions reshape the measurement results into the format that is suitable for compute the expectation value by DSP.\n",
    "In particular, `reshape_hist` is used in `compute_energy_gse_dsp_ancilla`.\n",
    "\n",
    "- `make_conditioned_hist(hist: Dict[str, Union[int, float]], condition_state: str, qr_poses: List[int]) -> Dict[str, Union[int, float]]`\n",
    "- `remove_space_from_hist_states(hist: Dict[str, Union[int, float]]) -> Dict[str, Union[int, float]]`\n",
    "- `reshape_hist(hist: Dict[str, Union[int, float]]) -> List[Dict[str, Union[int, float]]]`"
   ]
  },
  {
   "cell_type": "markdown",
   "id": "3c9b0769",
   "metadata": {},
   "source": [
    "### Define decoder functions of DSP\n",
    "\n",
    "These functions compute the trace of an observable and a quantum state according to DSP.\n",
    "- `compute_trace_dsp_ancilla_numerator(n: int, hist: Dict[str, Union[int, float]]) -> float`\n",
    "- `compute_trace_dsp_ancilla_denominator(n: int, hist: Dict[str, Union[int, float]]) -> float`"
   ]
  },
  {
   "cell_type": "code",
   "execution_count": 4,
   "id": "d937a35b",
   "metadata": {},
   "outputs": [],
   "source": [
    "from dsp import *"
   ]
  },
  {
   "cell_type": "markdown",
   "id": "728aee02",
   "metadata": {},
   "source": [
    "# COMMON --- GSE\n",
    "\n",
    "GSE computes the mitigated expectation value assuming the following ansatz.\n",
    "$$\\rho_{\\mathrm{EM}}=\\frac{P^{\\dagger} A P}{\\operatorname{Tr}\\left[P^{\\dagger} A P\\right]}$$\n",
    "where $$\\sigma_i=\\sum_k \\beta_k^{(i)} \\prod_{l=1}^{L_k} U_{l k}^{(i)} \\rho_{l k}^{(i)} V_{l k}^{(i)}$$"
   ]
  },
  {
   "cell_type": "markdown",
   "id": "59225029",
   "metadata": {},
   "source": [
    "### Define the function for the encoder of GSE\n",
    "\n",
    "The function `make_qcs_gse_dsp_ancilla` outputs the quantum circuits for GSE, given the target Hamiltonian and the quantum circuits of subspaces.\n",
    "So far, the subspaces are defined by `sigma_list` and `pauli_list`, which can only indicate restricted subspaces:\n",
    "- fault subspaces such as $\\{\\rho(\\epsilon), \\rho(2\\epsilon), \\rho(3\\epsilon)\\}$\n",
    "- power subspaces with two-dim GSE matrix such as $\\{\\rho, H\\rho\\}$\n",
    "\n",
    "```python\n",
    "make_qcs_gse_dsp_ancilla(hamiltonian: Hamiltonian = None,\n",
    "                         sigma_list: List[Tuple[QuantumCircuit, int]] = None,\n",
    "                         sigma_list_inv: List[Tuple[QuantumCircuit, int]] = None,\n",
    "                         pauli_list: List[Tuple[Hamiltonian, int]] = None,\n",
    "                         measurement: bool = True,\n",
    "                         z_index: int = None, \n",
    "                         connection_graph: List[List[int]] = None,\n",
    "                         barrier: bool = False) -> Tuple[List[QuantumCircuit], List[QuantumCircuit]]\n",
    "```"
   ]
  },
  {
   "cell_type": "markdown",
   "id": "cc96a45a",
   "metadata": {},
   "source": [
    "### Define the decoder function of GSE\n",
    "Given the raw measurement results of `hists_H_tilde` and `hists_S_tilde`, the function `compute_energy_gse_dsp_ancilla` computes the mitigated ground state energy by GSE.\n",
    "Here we restrict the range of ground state energy according to the given Hamiltonian.\n",
    "If we set `return_all == True`, then it returns all the $\\tilde H$ and $\\tilde S$ matrices in GSE, along with all the raw solutions of the generalized eigenvalue problem: $\\tilde H\\overrightarrow\\alpha = E\\tilde S\\overrightarrow\\alpha$.\n",
    "\n",
    "```python\n",
    "compute_energy_gse_dsp_ancilla(hists_H_tilde: List[Counts],\n",
    "                               hists_S_tilde: List[Counts],\n",
    "                               hamiltonian: Hamiltonian,\n",
    "                               sigma_list: List[List[Tuple[QuantumCircuit, int]]],\n",
    "                               pauli_list: List[Tuple[Hamiltonian, int]],\n",
    "                               hist_type: str = \"raw\",\n",
    "                               return_all: bool = False) -> Tuple[complex, np.array]\n",
    "```"
   ]
  },
  {
   "cell_type": "code",
   "execution_count": 5,
   "id": "457f4847",
   "metadata": {},
   "outputs": [],
   "source": [
    "from gse import *"
   ]
  },
  {
   "cell_type": "markdown",
   "id": "8b0ae007",
   "metadata": {},
   "source": [
    "# COMMON --- READ DATA (Main process starts from this cell.)"
   ]
  },
  {
   "cell_type": "markdown",
   "id": "d4e3bfc3",
   "metadata": {},
   "source": [
    "### Load the saved data\n",
    "Here we load the VQE parameters from `pkls/parameters_vqe.pkl`.\n",
    "\n",
    "We define \n",
    "- `num_qubits`:\n",
    "- `num_layers`:\n",
    "- `H`:\n",
    "- `parameters_vqe`:"
   ]
  },
  {
   "cell_type": "code",
   "execution_count": 6,
   "id": "91e4c6d7",
   "metadata": {},
   "outputs": [],
   "source": [
    "import pickle\n",
    "with open(\"pkls/parameters_vqe.pkl\", \"rb\") as f:\n",
    "    records_vqe = pickle.load(f)\n",
    "num_qubits = records_vqe[\"num_qubits\"]\n",
    "num_layers = records_vqe[\"num_layers\"]\n",
    "H = records_vqe[\"H\"]\n",
    "parameters_vqe = records_vqe[\"record_param_list\"][-1] # this is the log of parameters for each iteration. We use the last set of parameters."
   ]
  },
  {
   "cell_type": "markdown",
   "id": "c7232e2d",
   "metadata": {},
   "source": [
    "### Define the backend and shot count\n",
    "Here we define\n",
    "- `backend`:\n",
    "- `shots`:"
   ]
  },
  {
   "cell_type": "code",
   "execution_count": 7,
   "id": "857e3c9f",
   "metadata": {},
   "outputs": [],
   "source": [
    "from qiskit.providers.fake_provider import FakeJakarta\n",
    "backend = FakeJakarta()\n",
    "shots = 1 << 13\n",
    "initial_layout = [2, 0, 1, 3, 5]"
   ]
  },
  {
   "cell_type": "markdown",
   "id": "d9a90227",
   "metadata": {},
   "source": [
    "### Define the function for generating the VQE circuit\n",
    "This function can also be separated from this notebook as utility library.\n",
    "- `add_vqe_layer(qc, qr, num_qubits, num_layers, param_list) -> None`"
   ]
  },
  {
   "cell_type": "code",
   "execution_count": 8,
   "id": "207bdcd2",
   "metadata": {},
   "outputs": [],
   "source": [
    "from qiskit import QuantumCircuit, QuantumRegister, ClassicalRegister\n",
    "def add_vqe_layer(qc, qr, num_qubits, num_layers, param_list) -> None:\n",
    "    for i in range(num_layers):\n",
    "        for j in range(num_qubits): # RX gates and RZ gates\n",
    "            qc.rx(param_list[i * num_qubits * 2 + j * 2], qr[j])\n",
    "            qc.rz(param_list[i * num_qubits * 2 + j * 2 + 1], qr[j])\n",
    "        for i in range(num_qubits)[0:-1:2]: # CZ gates\n",
    "            qc.cz(qr[i], qr[i + 1])\n",
    "        for i in range(num_qubits)[1:-1:2]: # CZ gates\n",
    "            qc.cz(qr[i], qr[i + 1])\n",
    "    for j in range(num_qubits): # RX gates and RZ gates\n",
    "        qc.rx(param_list[num_layers * num_qubits * 2 + j * 2], qr[j])\n",
    "        qc.rz(param_list[num_layers * num_qubits * 2 + j * 2 + 1], qr[j])"
   ]
  },
  {
   "cell_type": "code",
   "execution_count": 9,
   "id": "5b60a07d",
   "metadata": {},
   "outputs": [],
   "source": [
    "qr_vqe = QuantumRegister(num_qubits)\n",
    "qc_vqe = QuantumCircuit(qr_vqe)\n",
    "add_vqe_layer(qc_vqe, qr_vqe, num_qubits, num_layers, parameters_vqe)\n",
    "# qc_vqe.draw(\"mpl\")"
   ]
  },
  {
   "cell_type": "markdown",
   "id": "b81a4ab7",
   "metadata": {},
   "source": [
    "### Create the circuits\n",
    "- `qc_vqe`: the VQE circuit\n",
    "- `qc_vqe_inv`: the inverse of the VQE circuit"
   ]
  },
  {
   "cell_type": "code",
   "execution_count": 10,
   "id": "dbf23dc7",
   "metadata": {},
   "outputs": [],
   "source": [
    "from qiskit.compiler import transpile\n",
    "basis_gates = [\"rz\", \"sx\", \"cx\"]\n",
    "optimization_level = 3\n",
    "qc_vqe = transpile(qc_vqe, basis_gates=basis_gates, optimization_level=optimization_level)\n",
    "# qc_vqe.draw(\"mpl\")\n",
    "qc_vqe_inv = transpile(qc_vqe.inverse(), basis_gates=basis_gates, optimization_level=optimization_level)\n",
    "# qc_vqe_inv.draw(\"mpl\")"
   ]
  },
  {
   "cell_type": "markdown",
   "id": "483a74e4",
   "metadata": {},
   "source": [
    "# Check the theoretical ground state energy"
   ]
  },
  {
   "cell_type": "code",
   "execution_count": 11,
   "id": "184a4ffa",
   "metadata": {},
   "outputs": [],
   "source": [
    "# set the records for later analysis\n",
    "records_gse = dict()"
   ]
  },
  {
   "cell_type": "code",
   "execution_count": 12,
   "id": "4d550111",
   "metadata": {},
   "outputs": [
    {
     "name": "stdout",
     "output_type": "stream",
     "text": [
      "{'eig_vals': array([ 4.75877048+0.j, -4.75877048+0.j, -4.06417777+0.j,  2.75877048+0.j,\n",
      "       -2.06417777+0.j, -1.69459271+0.j,  2.06417777+0.j, -0.30540729+0.j,\n",
      "        0.30540729+0.j,  4.06417777+0.j, -2.75877048+0.j, -1.        +0.j,\n",
      "        1.69459271+0.j,  1.        +0.j,  1.        +0.j, -1.        +0.j]),\n",
      " 'energy': -4.758770483143625}\n"
     ]
    }
   ],
   "source": [
    "eig_vals, eig_vecs = spy.linalg.eig(hamiltonian_to_dm(H))\n",
    "energy_theoretical = sorted(eig_vals.real)[0]\n",
    "### record the result ###\n",
    "records_gse[\"theoretical\"] = {\"energy\": energy_theoretical,\n",
    "                              \"eig_vals\": eig_vals}\n",
    "pprint(records_gse[\"theoretical\"])"
   ]
  },
  {
   "cell_type": "markdown",
   "id": "35b5b51f",
   "metadata": {},
   "source": [
    "# Check the raw ground state energy"
   ]
  },
  {
   "cell_type": "code",
   "execution_count": 13,
   "id": "13c1c551",
   "metadata": {},
   "outputs": [
    {
     "name": "stdout",
     "output_type": "stream",
     "text": [
      "{'eig_vals': None, 'energy': -3.612548828125}\n"
     ]
    }
   ],
   "source": [
    "from qiskit.transpiler.passes import RemoveBarriers\n",
    "from qiskit import execute, Aer\n",
    "from qiskit.ignis.mitigation import expectation_value\n",
    "\n",
    "qcs = []\n",
    "for observable in H.keys():\n",
    "    qr = QuantumRegister(num_qubits)\n",
    "    cr = ClassicalRegister(num_qubits - observable.count(\"I\"))\n",
    "    qc = QuantumCircuit(qr, cr)\n",
    "    qc.compose(qc_vqe, qubits=qr, inplace=True)\n",
    "    add_observable(qc=qc, qr=qr, cr=cr, pauli_str=observable, inplace=True)\n",
    "    # qc.save_density_matrix()\n",
    "    qcs.append(qc)\n",
    "qcs = transpile(qcs, basis_gates=basis_gates, optimization_level=optimization_level)\n",
    "\n",
    "### run quantum circuits ###\n",
    "job = execute(qcs, backend=backend, shots=shots, optimization_level=0)\n",
    "# job = execute(qcs, backend=Aer.get_backend(\"qasm_simulator\"), shots=1 << 17, optimization_level=0)\n",
    "hists = job.result().get_counts()\n",
    "# dms = get_density_matrices(job.result())\n",
    "# dms_with_observables = [add_observable_to_dm(dm, observable) for dm, observable in zip(dms, H.keys())]\n",
    "# hists = dms_to_hists(dms_with_observables)\n",
    "\n",
    "### compute the expectation value of H ###\n",
    "expval_raw = 0\n",
    "for i, coeff in enumerate(H.values()):\n",
    "    expval_raw += coeff * expectation_value(hists[i])[0]\n",
    "    # expval_raw += coeff * dms_with_observables[i].trace().real\n",
    "    \n",
    "### record the result ###\n",
    "records_gse[\"raw\"] = {\"eig_vals\": None,\n",
    "                      \"energy\": expval_raw}\n",
    "print(records_gse[\"raw\"])"
   ]
  },
  {
   "cell_type": "markdown",
   "id": "e5d0ad37",
   "metadata": {},
   "source": [
    "# \n",
    "# Adding QREM before GSE\n",
    "# \n",
    "\n",
    "[Quantum Readout Error Mitigation (QREM)](https://qiskit.org/textbook/ch-quantum-hardware/measurement-error-mitigation.html) mitigates the errors occured in measurement process."
   ]
  },
  {
   "cell_type": "code",
   "execution_count": 14,
   "id": "43fb1f7f",
   "metadata": {},
   "outputs": [],
   "source": [
    "from qiskit.ignis.mitigation.measurement import complete_meas_cal, CompleteMeasFitter\n",
    "from qiskit import QuantumRegister\n",
    "qr_cal = QuantumRegister(num_qubits + 1)\n",
    "meas_calibs, state_labels = complete_meas_cal(qr=qr_cal, circlabel='mcal')"
   ]
  },
  {
   "cell_type": "code",
   "execution_count": 15,
   "id": "b940ec62",
   "metadata": {},
   "outputs": [],
   "source": [
    "from qiskit import execute\n",
    "# Execute the calibration circuits\n",
    "shots_cal = 1 << 13\n",
    "job_cal = execute(meas_calibs, backend=backend, shots=shots_cal, optimization_level=0, initial_layout=initial_layout)"
   ]
  },
  {
   "cell_type": "code",
   "execution_count": 16,
   "id": "e9ae9383",
   "metadata": {},
   "outputs": [],
   "source": [
    "meas_fitter = CompleteMeasFitter(job_cal.result(), state_labels, circlabel='mcal')\n",
    "meas_filter = meas_fitter.filter"
   ]
  },
  {
   "cell_type": "markdown",
   "id": "88d5e794",
   "metadata": {},
   "source": [
    "# \n",
    "# GSE (by fault subspace)\n",
    "# "
   ]
  },
  {
   "cell_type": "markdown",
   "id": "8abf4cc8",
   "metadata": {},
   "source": [
    "### Make quantum circuits for fault subspace\n",
    "Here we are using the Mitiq library for scaling up the error rate in the quantum circuit.\n",
    "The subspaces we are using are $\\{\\rho(\\epsilon), \\rho(2\\epsilon), \\rho(3\\epsilon)\\}$."
   ]
  },
  {
   "cell_type": "code",
   "execution_count": 17,
   "id": "e68333a8",
   "metadata": {},
   "outputs": [],
   "source": [
    "from mitiq.zne.scaling import fold_gates_at_random, fold_gates_from_left\n",
    "sigma_list=[]\n",
    "sigma_list_inv=[] # scale up the transpiled VQE circuit\n",
    "for scale_factor in [1.0, 2.0, 3.0]:\n",
    "    # qc = fold_gates_at_random(qc_vqe, scale_factor=scale_factor)\n",
    "    qc = fold_gates_from_left(qc_vqe, scale_factor=scale_factor)\n",
    "    qc_inv = fold_gates_from_left(qc_vqe_inv, scale_factor=scale_factor)\n",
    "    sigma_list.append((qc, 1.0))\n",
    "    sigma_list_inv.append((qc_inv, 1.0))\n",
    "pauli_list = [(Hamiltonian({\"I\"*num_qubits: 0}), 0) for _ in range(len(sigma_list))]"
   ]
  },
  {
   "cell_type": "markdown",
   "id": "0f8ea435",
   "metadata": {},
   "source": [
    "### specify the hardware restriction"
   ]
  },
  {
   "cell_type": "code",
   "execution_count": 18,
   "id": "1abb02b9",
   "metadata": {},
   "outputs": [],
   "source": [
    "z_index = 1\n",
    "connection_order = [[0,1],[1,2],[2,3]]"
   ]
  },
  {
   "cell_type": "markdown",
   "id": "d3c10d83",
   "metadata": {},
   "source": [
    "### Make quantum circuits\n",
    "To use the real backend or check the results with finite shot count, we can only switch the attribute `measurement=False` to `measurement=True` in the function `make_qcs_gse_dsp_ancilla` here. (and also delete several unnecessary  cells for density matrix simulator.)"
   ]
  },
  {
   "cell_type": "code",
   "execution_count": 19,
   "id": "bf020a13",
   "metadata": {},
   "outputs": [
    {
     "name": "stdout",
     "output_type": "stream",
     "text": [
      "the number of quantum circuits in qcs_H_tilde: 63\n",
      "the number of quantum circuits in qcs_S_tilde: 63\n"
     ]
    }
   ],
   "source": [
    "qcs_H_tilde, qcs_S_tilde = make_qcs_gse_dsp_ancilla(hamiltonian=H, \n",
    "                                                    sigma_list=sigma_list, \n",
    "                                                    sigma_list_inv=sigma_list_inv, \n",
    "                                                    pauli_list=pauli_list, \n",
    "                                                    measurement=True, # =False, # change here if we measure the circuit and use the finite shots model\n",
    "                                                    z_index=z_index, \n",
    "                                                    connection_graph=connection_order, \n",
    "                                                    barrier=False)\n",
    "print(\"the number of quantum circuits in qcs_H_tilde:\", len(qcs_H_tilde))\n",
    "print(\"the number of quantum circuits in qcs_S_tilde:\", len(qcs_H_tilde))"
   ]
  },
  {
   "cell_type": "markdown",
   "id": "af4294b5",
   "metadata": {},
   "source": [
    "### Transpile the quantum circuit"
   ]
  },
  {
   "cell_type": "code",
   "execution_count": 20,
   "id": "5808f8b6",
   "metadata": {},
   "outputs": [],
   "source": [
    "# from qiskit.transpiler.passes import RemoveBarriers\n",
    "qcs_H_tilde = [transpile(qc, basis_gates=basis_gates, optimization_level=0) for qc in qcs_H_tilde]\n",
    "qcs_S_tilde = [transpile(qc, basis_gates=basis_gates, optimization_level=0) for qc in qcs_S_tilde]"
   ]
  },
  {
   "cell_type": "markdown",
   "id": "5cf4a576",
   "metadata": {},
   "source": [
    "### Run the quantum circuits"
   ]
  },
  {
   "cell_type": "code",
   "execution_count": 21,
   "id": "bcd626a4",
   "metadata": {},
   "outputs": [],
   "source": [
    "from qiskit import execute\n",
    "job_qcs_H_tilde = execute(qcs_H_tilde, backend=backend, shots=shots, optimization_level=0, initial_layout=initial_layout)\n",
    "job_qcs_S_tilde = execute(qcs_S_tilde, backend=backend, shots=shots, optimization_level=0, initial_layout=initial_layout)"
   ]
  },
  {
   "cell_type": "markdown",
   "id": "b6166fae",
   "metadata": {},
   "source": [
    "### Retrieve jobs and make histograms"
   ]
  },
  {
   "cell_type": "code",
   "execution_count": 22,
   "id": "4bcbabfa",
   "metadata": {},
   "outputs": [],
   "source": [
    "results_H_tilde = job_qcs_H_tilde.result()\n",
    "results_S_tilde = job_qcs_S_tilde.result()\n",
    "hists_H_tilde = job_qcs_H_tilde.result().get_counts()\n",
    "hists_S_tilde = job_qcs_S_tilde.result().get_counts()"
   ]
  },
  {
   "cell_type": "markdown",
   "id": "02cdc25c",
   "metadata": {},
   "source": [
    "### Apply QREM (if required)"
   ]
  },
  {
   "cell_type": "code",
   "execution_count": 23,
   "id": "6207b9f8",
   "metadata": {},
   "outputs": [],
   "source": [
    "results_H_tilde_qrem = meas_filter.apply(connect_cregs(results_H_tilde))\n",
    "results_S_tilde_qrem = meas_filter.apply(connect_cregs(results_S_tilde))\n",
    "hists_H_tilde_qrem = results_H_tilde_qrem.get_counts()\n",
    "hists_S_tilde_qrem = results_S_tilde_qrem.get_counts()"
   ]
  },
  {
   "cell_type": "markdown",
   "id": "c0f833f3",
   "metadata": {},
   "source": [
    "### Compute the mitigated expectation value\n",
    "Here we output raw eigenvalues and eigenvectors of the generalize eigenvalue problem in GSE:\n",
    "$$\\mathcal{H} \\vec{\\alpha}=E \\mathcal{S} \\vec{\\alpha}$$\n",
    "After this, we remove the unphysical eigenvalues and choose the minimum one among the remainings."
   ]
  },
  {
   "cell_type": "code",
   "execution_count": 24,
   "id": "8593d2f8",
   "metadata": {},
   "outputs": [
    {
     "name": "stdout",
     "output_type": "stream",
     "text": [
      "Estimated ground state energy by GSE (fault subspace): -0.2230255367316511\n",
      "\n",
      "physically meaningful eigen values\n",
      "array([ 2.07758704, -0.22302554,  0.39960918])\n"
     ]
    }
   ],
   "source": [
    "eig_vals, eig_vecs, H_tilde, S_tilde = compute_energy_gse_dsp_ancilla(hists_H_tilde=hists_H_tilde,\n",
    "                                                                      hists_S_tilde=hists_S_tilde,\n",
    "                                                                      hamiltonian=H,\n",
    "                                                                      sigma_list=sigma_list,\n",
    "                                                                      pauli_list=pauli_list,\n",
    "                                                                      hist_type=\"raw\",\n",
    "                                                                      return_all=True)\n",
    "max_energy = len(H)\n",
    "eig_vals_lower_bounded = eig_vals.real[- max_energy < eig_vals.real]\n",
    "eig_vals_bounded = eig_vals_lower_bounded[eig_vals_lower_bounded < max_energy]\n",
    "energy = np.sort(eig_vals_bounded)[0]\n",
    "print(\"Estimated ground state energy by GSE (fault subspace):\", energy)\n",
    "print()\n",
    "print(\"physically meaningful eigen values\")\n",
    "pprint(eig_vals_bounded)\n",
    "# print()\n",
    "records_gse[\"fault-subspace\"] = {\"eig_vals\": eig_vals,\n",
    "                              \"eig_vecs\": eig_vecs,\n",
    "                              \"H_tilde\": H_tilde,\n",
    "                              \"S_tilde\": S_tilde,\n",
    "                              \"energy\": energy,}\n",
    "# pprint(records_gse[\"qrem_fault-subspace\"])"
   ]
  },
  {
   "cell_type": "code",
   "execution_count": 25,
   "id": "8e219f58",
   "metadata": {},
   "outputs": [
    {
     "name": "stdout",
     "output_type": "stream",
     "text": [
      "Estimated ground state energy by GSE (fault subspace): -0.12809931230695576\n",
      "\n",
      "physically meaningful eigen values\n",
      "array([ 2.51041636, -0.12809931,  0.40132098])\n"
     ]
    }
   ],
   "source": [
    "eig_vals, eig_vecs, H_tilde, S_tilde = compute_energy_gse_dsp_ancilla(hists_H_tilde=hists_H_tilde_qrem,\n",
    "                                                                      hists_S_tilde=hists_S_tilde_qrem,\n",
    "                                                                      hamiltonian=H,\n",
    "                                                                      sigma_list=sigma_list,\n",
    "                                                                      pauli_list=pauli_list,\n",
    "                                                                      hist_type=\"raw\",\n",
    "                                                                      return_all=True)\n",
    "max_energy = len(H)\n",
    "eig_vals_lower_bounded = eig_vals.real[- max_energy < eig_vals.real]\n",
    "eig_vals_bounded = eig_vals_lower_bounded[eig_vals_lower_bounded < max_energy]\n",
    "energy = np.sort(eig_vals_bounded)[0]\n",
    "print(\"Estimated ground state energy by GSE (fault subspace):\", energy)\n",
    "print()\n",
    "print(\"physically meaningful eigen values\")\n",
    "pprint(eig_vals_bounded)\n",
    "# print()\n",
    "records_gse[\"qrem_fault-subspace\"] = {\"eig_vals\": eig_vals,\n",
    "                              \"eig_vecs\": eig_vecs,\n",
    "                              \"H_tilde\": H_tilde,\n",
    "                              \"S_tilde\": S_tilde,\n",
    "                              \"energy\": energy,}\n",
    "# pprint(records_gse[\"qrem_fault-subspace\"])"
   ]
  },
  {
   "cell_type": "markdown",
   "id": "782c6b84",
   "metadata": {},
   "source": [
    "# \n",
    "# GSE (by power subspace)\n",
    "# "
   ]
  },
  {
   "cell_type": "markdown",
   "id": "a13f546b",
   "metadata": {},
   "source": [
    "### Make quantum circuits for power subspace\n",
    "\n",
    "Here we set the subspace as $\\{\\rho, H\\rho\\}$."
   ]
  },
  {
   "cell_type": "code",
   "execution_count": 26,
   "id": "a381b36a",
   "metadata": {},
   "outputs": [],
   "source": [
    "sigma_list=[(qc_vqe, 1.0), (qc_vqe, 1.0)]\n",
    "sigma_list_inv=[(qc_vqe_inv, 1.0), (qc_vqe_inv, 1.0)]\n",
    "pauli_list = [(H, 0), (H, 1)]"
   ]
  },
  {
   "cell_type": "markdown",
   "id": "6e0c5d1e",
   "metadata": {},
   "source": [
    "### specify the hardware restriction"
   ]
  },
  {
   "cell_type": "code",
   "execution_count": 27,
   "id": "15039ecc",
   "metadata": {},
   "outputs": [],
   "source": [
    "z_index = 1\n",
    "connection_order = [[0,1],[1,2],[2,3]]"
   ]
  },
  {
   "cell_type": "markdown",
   "id": "f2544acb",
   "metadata": {},
   "source": [
    "### Make quantum circuits\n",
    "To use the real backend or check the results with finite shot count, we can only switch the attribute `measurement=False` to `measurement=True` in the function `make_qcs_gse_dsp_ancilla` here. (and also delete several unnecessary  cells for density matrix simulator.)"
   ]
  },
  {
   "cell_type": "code",
   "execution_count": 28,
   "id": "bfdf0bc0",
   "metadata": {},
   "outputs": [
    {
     "name": "stdout",
     "output_type": "stream",
     "text": [
      "the number of quantum circuits in qcs_H_tilde: 61\n",
      "the number of quantum circuits in qcs_S_tilde: 61\n"
     ]
    }
   ],
   "source": [
    "qcs_H_tilde, qcs_S_tilde = make_qcs_gse_dsp_ancilla(hamiltonian=H, \n",
    "                                                    sigma_list=sigma_list, \n",
    "                                                    sigma_list_inv=sigma_list_inv,\n",
    "                                                    pauli_list=pauli_list, \n",
    "                                                    measurement=True, # =False, \n",
    "                                                    z_index=z_index, \n",
    "                                                    connection_graph=connection_order, \n",
    "                                                    barrier=False)\n",
    "print(\"the number of quantum circuits in qcs_H_tilde:\", len(qcs_H_tilde))\n",
    "print(\"the number of quantum circuits in qcs_S_tilde:\", len(qcs_H_tilde))"
   ]
  },
  {
   "cell_type": "markdown",
   "id": "e8d4fba4",
   "metadata": {},
   "source": [
    "### Transpile the quantum circuit"
   ]
  },
  {
   "cell_type": "code",
   "execution_count": 29,
   "id": "6945156d",
   "metadata": {},
   "outputs": [],
   "source": [
    "### Transpile the quantum circuit# from qiskit.transpiler.passes import RemoveBarriers\n",
    "qcs_H_tilde = [transpile(qc, basis_gates=basis_gates, optimization_level=0) for qc in qcs_H_tilde]\n",
    "qcs_S_tilde = [transpile(qc, basis_gates=basis_gates, optimization_level=0) for qc in qcs_S_tilde]"
   ]
  },
  {
   "cell_type": "markdown",
   "id": "045bc3c4",
   "metadata": {},
   "source": [
    "### Run the quantum circuits"
   ]
  },
  {
   "cell_type": "code",
   "execution_count": 30,
   "id": "2faea5f8",
   "metadata": {},
   "outputs": [],
   "source": [
    "from qiskit import execute\n",
    "job_qcs_H_tilde = execute(qcs_H_tilde, backend=backend, shots=shots, optimization_level=0, initial_layout=initial_layout)\n",
    "job_qcs_S_tilde = execute(qcs_S_tilde, backend=backend, shots=shots, optimization_level=0, initial_layout=initial_layout)"
   ]
  },
  {
   "cell_type": "markdown",
   "id": "f517fdb2",
   "metadata": {},
   "source": [
    "### Retrieve jobs and make histograms"
   ]
  },
  {
   "cell_type": "code",
   "execution_count": 31,
   "id": "a391bed9",
   "metadata": {},
   "outputs": [],
   "source": [
    "results_H_tilde = job_qcs_H_tilde.result()\n",
    "results_S_tilde = job_qcs_S_tilde.result()\n",
    "hists_H_tilde = results_H_tilde.get_counts()\n",
    "hists_S_tilde = results_S_tilde.get_counts()"
   ]
  },
  {
   "cell_type": "markdown",
   "id": "74fe9094",
   "metadata": {},
   "source": [
    "### Apply QREM (if required)"
   ]
  },
  {
   "cell_type": "code",
   "execution_count": 32,
   "id": "656e7500",
   "metadata": {},
   "outputs": [],
   "source": [
    "results_H_tilde_qrem = meas_filter.apply(connect_cregs(results_H_tilde))\n",
    "results_S_tilde_qrem = meas_filter.apply(connect_cregs(results_S_tilde))\n",
    "hists_H_tilde_qrem = results_H_tilde_qrem.get_counts()\n",
    "hists_S_tilde_qrem = results_S_tilde_qrem.get_counts()"
   ]
  },
  {
   "cell_type": "markdown",
   "id": "30a13f71",
   "metadata": {},
   "source": [
    "### Compute the mitigated expectation value\n",
    "Here we output raw eigenvalues and eigenvectors of the generalize eigenvalue problem in GSE:\n",
    "$$\\mathcal{H} \\vec{\\alpha}=E \\mathcal{S} \\vec{\\alpha}$$\n",
    "After this, we remove the unphysical eigenvalues and choose the minimum one among the remainings."
   ]
  },
  {
   "cell_type": "code",
   "execution_count": 33,
   "id": "af350718",
   "metadata": {},
   "outputs": [
    {
     "name": "stdout",
     "output_type": "stream",
     "text": [
      "Estimated ground state energy by GSE (power subspace): -4.346561601168855\n",
      "\n",
      "physically meaningful eigen values\n",
      "array([-4.3465616 ,  3.00856852])\n"
     ]
    }
   ],
   "source": [
    "eig_vals, eig_vecs, H_tilde, S_tilde = compute_energy_gse_dsp_ancilla(hists_H_tilde=hists_H_tilde,\n",
    "                                                                      hists_S_tilde=hists_S_tilde,\n",
    "                                                                      hamiltonian=H,\n",
    "                                                                      sigma_list=sigma_list,\n",
    "                                                                      pauli_list=pauli_list,\n",
    "                                                                      hist_type=\"raw\",\n",
    "                                                                      return_all=True)\n",
    "max_energy = len(H)\n",
    "eig_vals_lower_bounded = eig_vals.real[- max_energy < eig_vals.real]\n",
    "eig_vals_bounded = eig_vals_lower_bounded[eig_vals_lower_bounded < max_energy]\n",
    "energy = np.sort(eig_vals_bounded)[0]\n",
    "print(\"Estimated ground state energy by GSE (power subspace):\", energy)\n",
    "print()\n",
    "print(\"physically meaningful eigen values\")\n",
    "pprint(eig_vals_bounded)\n",
    "# print()\n",
    "records_gse[\"power-subspace\"] = {\"eig_vals\": eig_vals,\n",
    "                              \"eig_vecs\": eig_vecs,\n",
    "                              \"H_tilde\": H_tilde,\n",
    "                              \"S_tilde\": S_tilde,\n",
    "                              \"energy\": energy,}\n",
    "# pprint(records_gse[\"qrem_power-subspace\"])"
   ]
  },
  {
   "cell_type": "code",
   "execution_count": 34,
   "id": "88c78d31",
   "metadata": {},
   "outputs": [
    {
     "name": "stdout",
     "output_type": "stream",
     "text": [
      "Estimated ground state energy by GSE (power subspace): -4.334112730850788\n",
      "\n",
      "physically meaningful eigen values\n",
      "array([-4.33411273,  3.0061855 ])\n"
     ]
    }
   ],
   "source": [
    "eig_vals, eig_vecs, H_tilde, S_tilde = compute_energy_gse_dsp_ancilla(hists_H_tilde=hists_H_tilde_qrem,\n",
    "                                                                      hists_S_tilde=hists_S_tilde_qrem,\n",
    "                                                                      hamiltonian=H,\n",
    "                                                                      sigma_list=sigma_list,\n",
    "                                                                      pauli_list=pauli_list,\n",
    "                                                                      hist_type=\"raw\",\n",
    "                                                                      return_all=True)\n",
    "max_energy = len(H)\n",
    "eig_vals_lower_bounded = eig_vals.real[- max_energy < eig_vals.real]\n",
    "eig_vals_bounded = eig_vals_lower_bounded[eig_vals_lower_bounded < max_energy]\n",
    "energy = np.sort(eig_vals_bounded)[0]\n",
    "print(\"Estimated ground state energy by GSE (power subspace):\", energy)\n",
    "print()\n",
    "print(\"physically meaningful eigen values\")\n",
    "pprint(eig_vals_bounded)\n",
    "# print()\n",
    "records_gse[\"qrem_power-subspace\"] = {\"eig_vals\": eig_vals,\n",
    "                              \"eig_vecs\": eig_vecs,\n",
    "                              \"H_tilde\": H_tilde,\n",
    "                              \"S_tilde\": S_tilde,\n",
    "                              \"energy\": energy,}\n",
    "# pprint(records_gse[\"qrem_power-subspace\"])"
   ]
  },
  {
   "cell_type": "markdown",
   "id": "37ae2248",
   "metadata": {},
   "source": [
    "# Save Data"
   ]
  },
  {
   "cell_type": "code",
   "execution_count": 35,
   "id": "fd250d8d",
   "metadata": {},
   "outputs": [],
   "source": [
    "import pickle\n",
    "with open(\"pkls/results_gse_\"+backend.name()+\".pkl\", \"wb\") as f:\n",
    "    pickle.dump(records_gse, f)"
   ]
  },
  {
   "cell_type": "markdown",
   "id": "6248b094",
   "metadata": {},
   "source": [
    "# Qiskit versions"
   ]
  },
  {
   "cell_type": "code",
   "execution_count": 36,
   "id": "f1f82adf",
   "metadata": {},
   "outputs": [
    {
     "data": {
      "text/html": [
       "<h3>Version Information</h3><table><tr><th>Qiskit Software</th><th>Version</th></tr><tr><td><code>qiskit-terra</code></td><td>0.21.2</td></tr><tr><td><code>qiskit-aer</code></td><td>0.10.4</td></tr><tr><td><code>qiskit-ignis</code></td><td>0.6.0</td></tr><tr><td><code>qiskit-ibmq-provider</code></td><td>0.19.2</td></tr><tr><td><code>qiskit</code></td><td>0.37.2</td></tr><tr><td><code>qiskit-nature</code></td><td>0.4.5</td></tr><tr><td><code>qiskit-optimization</code></td><td>0.2.3</td></tr><tr><td><code>qiskit-machine-learning</code></td><td>0.2.1</td></tr><tr><th>System information</th></tr><tr><td>Python version</td><td>3.9.7</td></tr><tr><td>Python compiler</td><td>Clang 10.0.0 </td></tr><tr><td>Python build</td><td>default, Sep 16 2021 08:50:36</td></tr><tr><td>OS</td><td>Darwin</td></tr><tr><td>CPUs</td><td>4</td></tr><tr><td>Memory (Gb)</td><td>16.0</td></tr><tr><td colspan='2'>Thu Mar 02 19:17:00 2023 CET</td></tr></table>"
      ],
      "text/plain": [
       "<IPython.core.display.HTML object>"
      ]
     },
     "metadata": {},
     "output_type": "display_data"
    }
   ],
   "source": [
    "import qiskit.tools.jupyter\n",
    "%qiskit_version_table"
   ]
  }
 ],
 "metadata": {
  "kernelspec": {
   "display_name": "Python 3 (ipykernel)",
   "language": "python",
   "name": "python3"
  },
  "language_info": {
   "codemirror_mode": {
    "name": "ipython",
    "version": 3
   },
   "file_extension": ".py",
   "mimetype": "text/x-python",
   "name": "python",
   "nbconvert_exporter": "python",
   "pygments_lexer": "ipython3",
   "version": "3.9.7"
  }
 },
 "nbformat": 4,
 "nbformat_minor": 5
}
