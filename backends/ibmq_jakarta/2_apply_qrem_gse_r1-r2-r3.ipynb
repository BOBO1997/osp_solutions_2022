{
 "cells": [
  {
   "cell_type": "code",
   "execution_count": 1,
   "id": "a09e57bd",
   "metadata": {},
   "outputs": [
    {
     "data": {
      "text/plain": [
       "'/Users/yangbo/Documents/projects/qamp_gse/test/ipynb/gse_vqe/backends/ibmq_jakarta'"
      ]
     },
     "execution_count": 1,
     "metadata": {},
     "output_type": "execute_result"
    }
   ],
   "source": [
    "%pwd"
   ]
  },
  {
   "cell_type": "markdown",
   "id": "279d117c",
   "metadata": {},
   "source": [
    "# COMMON --- LIBRARIES AND UTILS"
   ]
  },
  {
   "cell_type": "code",
   "execution_count": 2,
   "id": "fed6f97c",
   "metadata": {},
   "outputs": [],
   "source": [
    "import sys, pickle, time, importlib\n",
    "sys.path.append(\"../\")\n",
    "from pprint import pprint\n",
    "import numpy as np\n",
    "np.random.seed(42)\n",
    "np.set_printoptions(threshold=sys.maxsize)\n",
    "import scipy as spy\n",
    "%matplotlib inline\n",
    "import matplotlib.pyplot as plt\n",
    "plt.style.use(\"ggplot\")"
   ]
  },
  {
   "cell_type": "code",
   "execution_count": 3,
   "id": "d937a35b",
   "metadata": {},
   "outputs": [],
   "source": [
    "path_utils = \"../\"\n",
    "sys.path.append(path_utils)\n",
    "from utils import *\n",
    "from dsp import *\n",
    "from gse import *"
   ]
  },
  {
   "cell_type": "markdown",
   "id": "d4e3bfc3",
   "metadata": {},
   "source": [
    "# Load the settings for real device implementation"
   ]
  },
  {
   "cell_type": "code",
   "execution_count": 4,
   "id": "41614523",
   "metadata": {},
   "outputs": [],
   "source": [
    "import pickle\n",
    "with open(\"pkls/2_make_qrem_filter.pkl\", \"rb\") as f:\n",
    "    records = pickle.load(f)\n",
    "    meas_fitter = records[\"meas_fitter\"]"
   ]
  },
  {
   "cell_type": "code",
   "execution_count": 5,
   "id": "94721a57",
   "metadata": {},
   "outputs": [],
   "source": [
    "import pickle\n",
    "with open(\"pkls/1_run_gse_r1-r2-r3.pkl\", \"rb\") as f:\n",
    "    records = pickle.load(f)"
   ]
  },
  {
   "cell_type": "code",
   "execution_count": 6,
   "id": "7e39feae",
   "metadata": {},
   "outputs": [],
   "source": [
    "import pickle\n",
    "with open(\"pkls/0_settings.pkl\", \"rb\") as f:\n",
    "    settings = pickle.load(f)\n",
    "backend = settings[\"backend\"]\n",
    "H = settings[\"H\"]"
   ]
  },
  {
   "cell_type": "code",
   "execution_count": 7,
   "id": "b19aab73",
   "metadata": {},
   "outputs": [
    {
     "name": "stdout",
     "output_type": "stream",
     "text": [
      "6408869c0ad55fd6d8f0fb18\n",
      "640886a71e92645b7ee6b622\n"
     ]
    }
   ],
   "source": [
    "sigma_list = records[\"sigma_list\"]\n",
    "sigma_list_inv = records[\"sigma_list_inv\"]\n",
    "pauli_list = records[\"pauli_list\"]\n",
    "job_id_qcs_H_tilde = records[\"job_id_qcs_H_tilde\"]\n",
    "job_id_qcs_S_tilde = records[\"job_id_qcs_S_tilde\"]\n",
    "# job_qcs_H_tilde = backend.retrieve_job(job_id_qcs_H_tilde) ### if the results are stored on the cloud ###\n",
    "# job_qcs_S_tilde = backend.retrieve_job(job_id_qcs_S_tilde) ### if the results are stored on the cloud ###\n",
    "print(job_id_qcs_H_tilde)\n",
    "print(job_id_qcs_S_tilde)"
   ]
  },
  {
   "cell_type": "markdown",
   "id": "b6166fae",
   "metadata": {},
   "source": [
    "### Retrieve jobs and make histograms"
   ]
  },
  {
   "cell_type": "code",
   "execution_count": 10,
   "id": "4bcbabfa",
   "metadata": {},
   "outputs": [],
   "source": [
    "# results_H_tilde = job_qcs_H_tilde.result() ### if the results are stored on the cloud ###\n",
    "# results_S_tilde = job_qcs_S_tilde.result() ### if the results are stored on the cloud ###\n",
    "hists_H_tilde = results_H_tilde.get_counts()\n",
    "hists_S_tilde = results_S_tilde.get_counts()"
   ]
  },
  {
   "cell_type": "code",
   "execution_count": 8,
   "id": "33a6c360",
   "metadata": {},
   "outputs": [],
   "source": [
    "import json\n",
    "from qiskit.result import Result\n",
    "\n",
    "f = open(\"pkls/job-\"+job_id_qcs_H_tilde+\"/\"+job_id_qcs_H_tilde+\"-output.json\")\n",
    "data = json.load(f)\n",
    "results_H_tilde = Result.from_dict(data)\n",
    "\n",
    "f = open(\"pkls/job-\"+job_id_qcs_S_tilde+\"/\"+job_id_qcs_S_tilde+\"-output.json\")\n",
    "data = json.load(f)\n",
    "results_S_tilde = Result.from_dict(data)"
   ]
  },
  {
   "cell_type": "markdown",
   "id": "02cdc25c",
   "metadata": {},
   "source": [
    "### Apply QREM (if required)"
   ]
  },
  {
   "cell_type": "code",
   "execution_count": 12,
   "id": "6207b9f8",
   "metadata": {},
   "outputs": [],
   "source": [
    "results_H_tilde_qrem = meas_fitter.filter.apply(connect_cregs(results_H_tilde))\n",
    "results_S_tilde_qrem = meas_fitter.filter.apply(connect_cregs(results_S_tilde))\n",
    "hists_H_tilde_qrem = results_H_tilde_qrem.get_counts()\n",
    "hists_S_tilde_qrem = results_S_tilde_qrem.get_counts()"
   ]
  },
  {
   "cell_type": "markdown",
   "id": "c0f833f3",
   "metadata": {},
   "source": [
    "### Compute the mitigated expectation value\n",
    "Here we output raw eigenvalues and eigenvectors of the generalize eigenvalue problem in GSE:\n",
    "$$\\mathcal{H} \\vec{\\alpha}=E \\mathcal{S} \\vec{\\alpha}$$\n",
    "After this, we remove the unphysical eigenvalues and choose the minimum one among the remainings."
   ]
  },
  {
   "cell_type": "code",
   "execution_count": 13,
   "id": "8e219f58",
   "metadata": {},
   "outputs": [
    {
     "name": "stdout",
     "output_type": "stream",
     "text": [
      "Estimated ground state energy by GSE (fault subspace): -2.3074444180792013\n",
      "\n",
      "physically meaningful eigen values\n",
      "array([-2.30744442, -0.5253814 ])\n"
     ]
    }
   ],
   "source": [
    "eig_vals, eig_vecs, H_tilde, S_tilde = compute_energy_gse_dsp_ancilla(hists_H_tilde=hists_H_tilde_qrem,\n",
    "                                                                      hists_S_tilde=hists_S_tilde_qrem,\n",
    "                                                                      hamiltonian=H,\n",
    "                                                                      sigma_list=sigma_list,\n",
    "                                                                      pauli_list=pauli_list,\n",
    "                                                                      hist_type=\"raw\",\n",
    "                                                                      return_all=True)\n",
    "max_energy = len(H)\n",
    "eig_vals_lower_bounded = eig_vals.real[- max_energy < eig_vals.real]\n",
    "eig_vals_bounded = eig_vals_lower_bounded[eig_vals_lower_bounded < max_energy]\n",
    "energy = np.sort(eig_vals_bounded)[0]\n",
    "print(\"Estimated ground state energy by GSE (fault subspace):\", energy)\n",
    "print()\n",
    "print(\"physically meaningful eigen values\")\n",
    "pprint(eig_vals_bounded)\n",
    "# print()"
   ]
  },
  {
   "cell_type": "markdown",
   "id": "37ae2248",
   "metadata": {},
   "source": [
    "# Save Data"
   ]
  },
  {
   "cell_type": "code",
   "execution_count": 14,
   "id": "fd250d8d",
   "metadata": {},
   "outputs": [],
   "source": [
    "records = dict()\n",
    "records[\"qrem_r1-r2-r3\"] = {\"eig_vals\": eig_vals,\n",
    "                            \"eig_vecs\": eig_vecs,\n",
    "                            \"H_tilde\": H_tilde,\n",
    "                            \"S_tilde\": S_tilde,\n",
    "                            \"energy\": energy,}"
   ]
  },
  {
   "cell_type": "code",
   "execution_count": 15,
   "id": "d006ed56",
   "metadata": {},
   "outputs": [],
   "source": [
    "import pickle\n",
    "with open(\"pkls/2_apply_qrem_gse_r1-r2-r3.pkl\", \"wb\") as f:\n",
    "    pickle.dump(records, f)"
   ]
  },
  {
   "cell_type": "markdown",
   "id": "6248b094",
   "metadata": {},
   "source": [
    "# Qiskit versions"
   ]
  },
  {
   "cell_type": "code",
   "execution_count": 16,
   "id": "f1f82adf",
   "metadata": {},
   "outputs": [
    {
     "data": {
      "text/html": [
       "<h3>Version Information</h3><table><tr><th>Qiskit Software</th><th>Version</th></tr><tr><td><code>qiskit-terra</code></td><td>0.21.2</td></tr><tr><td><code>qiskit-aer</code></td><td>0.10.4</td></tr><tr><td><code>qiskit-ignis</code></td><td>0.6.0</td></tr><tr><td><code>qiskit-ibmq-provider</code></td><td>0.19.2</td></tr><tr><td><code>qiskit</code></td><td>0.37.2</td></tr><tr><td><code>qiskit-nature</code></td><td>0.4.5</td></tr><tr><td><code>qiskit-optimization</code></td><td>0.2.3</td></tr><tr><td><code>qiskit-machine-learning</code></td><td>0.2.1</td></tr><tr><th>System information</th></tr><tr><td>Python version</td><td>3.9.7</td></tr><tr><td>Python compiler</td><td>Clang 10.0.0 </td></tr><tr><td>Python build</td><td>default, Sep 16 2021 08:50:36</td></tr><tr><td>OS</td><td>Darwin</td></tr><tr><td>CPUs</td><td>4</td></tr><tr><td>Memory (Gb)</td><td>16.0</td></tr><tr><td colspan='2'>Thu Mar 16 22:43:35 2023 CET</td></tr></table>"
      ],
      "text/plain": [
       "<IPython.core.display.HTML object>"
      ]
     },
     "metadata": {},
     "output_type": "display_data"
    }
   ],
   "source": [
    "import qiskit.tools.jupyter\n",
    "%qiskit_version_table"
   ]
  }
 ],
 "metadata": {
  "kernelspec": {
   "display_name": "Python 3 (ipykernel)",
   "language": "python",
   "name": "python3"
  },
  "language_info": {
   "codemirror_mode": {
    "name": "ipython",
    "version": 3
   },
   "file_extension": ".py",
   "mimetype": "text/x-python",
   "name": "python",
   "nbconvert_exporter": "python",
   "pygments_lexer": "ipython3",
   "version": "3.9.7"
  }
 },
 "nbformat": 4,
 "nbformat_minor": 5
}
