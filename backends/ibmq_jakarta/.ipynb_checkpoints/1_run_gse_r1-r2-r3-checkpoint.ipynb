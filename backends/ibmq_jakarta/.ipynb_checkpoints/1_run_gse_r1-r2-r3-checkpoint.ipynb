{
 "cells": [
  {
   "cell_type": "code",
   "execution_count": 1,
   "id": "a09e57bd",
   "metadata": {},
   "outputs": [
    {
     "data": {
      "text/plain": [
       "'/Users/yangbo/Documents/projects/qamp_gse/test/ipynb/gse_vqe/backends/ibmq_jakarta'"
      ]
     },
     "execution_count": 1,
     "metadata": {},
     "output_type": "execute_result"
    }
   ],
   "source": [
    "%pwd"
   ]
  },
  {
   "cell_type": "markdown",
   "id": "279d117c",
   "metadata": {},
   "source": [
    "# COMMON --- LIBRARIES AND UTILS"
   ]
  },
  {
   "cell_type": "code",
   "execution_count": 2,
   "id": "fed6f97c",
   "metadata": {},
   "outputs": [],
   "source": [
    "import sys, pickle, time, importlib\n",
    "sys.path.append(\"../\")\n",
    "from pprint import pprint\n",
    "import numpy as np\n",
    "np.random.seed(42)\n",
    "np.set_printoptions(threshold=sys.maxsize)\n",
    "import scipy as spy\n",
    "%matplotlib inline\n",
    "import matplotlib.pyplot as plt\n",
    "plt.style.use(\"ggplot\")"
   ]
  },
  {
   "cell_type": "code",
   "execution_count": 3,
   "id": "8073c173",
   "metadata": {},
   "outputs": [],
   "source": [
    "path_utils = \"../\"\n",
    "sys.path.append(path_utils)\n",
    "from utils import *\n",
    "from dsp import *\n",
    "from gse import *"
   ]
  },
  {
   "cell_type": "markdown",
   "id": "ccee507c",
   "metadata": {},
   "source": [
    "# Load the settings for real device implementation"
   ]
  },
  {
   "cell_type": "code",
   "execution_count": 4,
   "id": "91e4c6d7",
   "metadata": {},
   "outputs": [],
   "source": [
    "import pickle\n",
    "with open(path_utils+\"pkls/parameters_vqe.pkl\", \"rb\") as f:\n",
    "    records_vqe = pickle.load(f)\n",
    "num_qubits = records_vqe[\"num_qubits\"]\n",
    "num_layers = records_vqe[\"num_layers\"]\n",
    "H = records_vqe[\"H\"]\n",
    "parameters_vqe = records_vqe[\"record_param_list\"][-1] # this is the log of parameters for each iteration. We use the last set of parameters."
   ]
  },
  {
   "cell_type": "code",
   "execution_count": 5,
   "id": "857e3c9f",
   "metadata": {},
   "outputs": [],
   "source": [
    "import pickle\n",
    "with open(\"pkls/0_settings.pkl\", \"rb\") as f:\n",
    "    settings = pickle.load(f)\n",
    "shots = settings[\"shots\"]\n",
    "backend = settings[\"backend\"]\n",
    "initial_layout = settings[\"initial_layout\"]\n",
    "basis_gates = settings[\"basis_gates\"]\n",
    "optimization_level = settings[\"optimization_level\"]\n",
    "z_index = settings[\"z_index\"]\n",
    "connection_order = settings[\"connection_order\"]"
   ]
  },
  {
   "cell_type": "markdown",
   "id": "d9a90227",
   "metadata": {},
   "source": [
    "### Define the function for generating the VQE circuit\n",
    "This function can also be separated from this notebook as utility library.\n",
    "- `add_vqe_layer(qc, qr, num_qubits, num_layers, param_list) -> None`"
   ]
  },
  {
   "cell_type": "code",
   "execution_count": 6,
   "id": "207bdcd2",
   "metadata": {},
   "outputs": [],
   "source": [
    "from qiskit import QuantumCircuit, QuantumRegister, ClassicalRegister\n",
    "def add_vqe_layer(qc, qr, num_qubits, num_layers, param_list) -> None:\n",
    "    for i in range(num_layers):\n",
    "        for j in range(num_qubits): # RX gates and RZ gates\n",
    "            qc.rx(param_list[i * num_qubits * 2 + j * 2], qr[j])\n",
    "            qc.rz(param_list[i * num_qubits * 2 + j * 2 + 1], qr[j])\n",
    "        for i in range(num_qubits)[0:-1:2]: # CZ gates\n",
    "            qc.cz(qr[i], qr[i + 1])\n",
    "        for i in range(num_qubits)[1:-1:2]: # CZ gates\n",
    "            qc.cz(qr[i], qr[i + 1])\n",
    "    for j in range(num_qubits): # RX gates and RZ gates\n",
    "        qc.rx(param_list[num_layers * num_qubits * 2 + j * 2], qr[j])\n",
    "        qc.rz(param_list[num_layers * num_qubits * 2 + j * 2 + 1], qr[j])"
   ]
  },
  {
   "cell_type": "code",
   "execution_count": 7,
   "id": "5b60a07d",
   "metadata": {},
   "outputs": [],
   "source": [
    "qr_vqe = QuantumRegister(num_qubits)\n",
    "qc_vqe = QuantumCircuit(qr_vqe)\n",
    "add_vqe_layer(qc_vqe, qr_vqe, num_qubits, num_layers, parameters_vqe)\n",
    "# qc_vqe.draw(\"mpl\")"
   ]
  },
  {
   "cell_type": "markdown",
   "id": "b81a4ab7",
   "metadata": {},
   "source": [
    "### Create the circuits\n",
    "- `qc_vqe`: the VQE circuit\n",
    "- `qc_vqe_inv`: the inverse of the VQE circuit"
   ]
  },
  {
   "cell_type": "code",
   "execution_count": 8,
   "id": "dbf23dc7",
   "metadata": {},
   "outputs": [],
   "source": [
    "from qiskit.compiler import transpile\n",
    "basis_gates = [\"rz\", \"sx\", \"cx\"]\n",
    "optimization_level = 3\n",
    "qc_vqe = transpile(qc_vqe, basis_gates=basis_gates, optimization_level=optimization_level)\n",
    "# qc_vqe.draw(\"mpl\")\n",
    "qc_vqe_inv = transpile(qc_vqe.inverse(), basis_gates=basis_gates, optimization_level=optimization_level)\n",
    "# qc_vqe_inv.draw(\"mpl\")"
   ]
  },
  {
   "cell_type": "markdown",
   "id": "88d5e794",
   "metadata": {},
   "source": [
    "# \n",
    "# GSE (by fault subspace)\n",
    "# "
   ]
  },
  {
   "cell_type": "markdown",
   "id": "8abf4cc8",
   "metadata": {},
   "source": [
    "### Make quantum circuits for fault subspace\n",
    "Here we are using the Mitiq library for scaling up the error rate in the quantum circuit.\n",
    "The subspaces we are using are $\\{\\rho(\\epsilon), \\rho(2\\epsilon), \\rho(3\\epsilon)\\}$."
   ]
  },
  {
   "cell_type": "code",
   "execution_count": 9,
   "id": "e68333a8",
   "metadata": {},
   "outputs": [],
   "source": [
    "from mitiq.zne.scaling import fold_gates_at_random, fold_gates_from_left\n",
    "sigma_list=[]\n",
    "sigma_list_inv=[] # scale up the transpiled VQE circuit\n",
    "for scale_factor in [1.0, 2.0, 3.0]:\n",
    "    # qc = fold_gates_at_random(qc_vqe, scale_factor=scale_factor)\n",
    "    qc = fold_gates_from_left(qc_vqe, scale_factor=scale_factor)\n",
    "    qc_inv = fold_gates_from_left(qc_vqe_inv, scale_factor=scale_factor)\n",
    "    sigma_list.append((qc, 1.0))\n",
    "    sigma_list_inv.append((qc_inv, 1.0))\n",
    "pauli_list = [(Hamiltonian({\"I\"*num_qubits: 0}), 0) for _ in range(len(sigma_list))]"
   ]
  },
  {
   "cell_type": "markdown",
   "id": "d3c10d83",
   "metadata": {},
   "source": [
    "### Make quantum circuits\n",
    "To use the real backend or check the results with finite shot count, we can only switch the attribute `measurement=False` to `measurement=True` in the function `make_qcs_gse_dsp_ancilla` here. (and also delete several unnecessary  cells for density matrix simulator.)"
   ]
  },
  {
   "cell_type": "code",
   "execution_count": 10,
   "id": "bf020a13",
   "metadata": {},
   "outputs": [
    {
     "name": "stdout",
     "output_type": "stream",
     "text": [
      "the number of quantum circuits in qcs_H_tilde: 63\n",
      "the number of quantum circuits in qcs_S_tilde: 63\n"
     ]
    }
   ],
   "source": [
    "qcs_H_tilde, qcs_S_tilde = make_qcs_gse_dsp_ancilla(hamiltonian=H, \n",
    "                                                    sigma_list=sigma_list, \n",
    "                                                    sigma_list_inv=sigma_list_inv, \n",
    "                                                    pauli_list=pauli_list, \n",
    "                                                    measurement=True, # =False, # change here if we measure the circuit and use the finite shots model\n",
    "                                                    z_index=z_index, \n",
    "                                                    connection_graph=connection_order, \n",
    "                                                    barrier=False)\n",
    "print(\"the number of quantum circuits in qcs_H_tilde:\", len(qcs_H_tilde))\n",
    "print(\"the number of quantum circuits in qcs_S_tilde:\", len(qcs_H_tilde))"
   ]
  },
  {
   "cell_type": "markdown",
   "id": "af4294b5",
   "metadata": {},
   "source": [
    "### Transpile the quantum circuit"
   ]
  },
  {
   "cell_type": "code",
   "execution_count": 11,
   "id": "5808f8b6",
   "metadata": {},
   "outputs": [],
   "source": [
    "# from qiskit.transpiler.passes import RemoveBarriers\n",
    "qcs_H_tilde = [transpile(qc, basis_gates=basis_gates, optimization_level=0) for qc in qcs_H_tilde]\n",
    "qcs_S_tilde = [transpile(qc, basis_gates=basis_gates, optimization_level=0) for qc in qcs_S_tilde]"
   ]
  },
  {
   "cell_type": "markdown",
   "id": "5cf4a576",
   "metadata": {},
   "source": [
    "### Run the quantum circuits"
   ]
  },
  {
   "cell_type": "code",
   "execution_count": 12,
   "id": "bcd626a4",
   "metadata": {},
   "outputs": [],
   "source": [
    "from qiskit import execute\n",
    "job_qcs_H_tilde = execute(qcs_H_tilde, backend=backend, shots=shots, optimization_level=0, initial_layout=initial_layout)\n",
    "job_qcs_S_tilde = execute(qcs_S_tilde, backend=backend, shots=shots, optimization_level=0, initial_layout=initial_layout)"
   ]
  },
  {
   "cell_type": "markdown",
   "id": "37ae2248",
   "metadata": {},
   "source": [
    "# Save Data"
   ]
  },
  {
   "cell_type": "code",
   "execution_count": 13,
   "id": "efae41e4",
   "metadata": {},
   "outputs": [],
   "source": [
    "records = dict()\n",
    "# records[\"job_qcs_H_tilde\"] = job_qcs_H_tilde\n",
    "# records[\"job_qcs_S_tilde\"] = job_qcs_S_tilde\n",
    "records[\"job_id_qcs_H_tilde\"] = job_qcs_H_tilde.job_id()\n",
    "records[\"job_id_qcs_S_tilde\"] = job_qcs_S_tilde.job_id()\n",
    "records[\"sigma_list\"] = sigma_list\n",
    "records[\"sigma_list_inv\"] = sigma_list_inv\n",
    "records[\"pauli_list\"] = pauli_list"
   ]
  },
  {
   "cell_type": "code",
   "execution_count": 14,
   "id": "fd250d8d",
   "metadata": {},
   "outputs": [],
   "source": [
    "import pickle\n",
    "with open(\"pkls/1_run_gse_r1-r2-r3.pkl\", \"wb\") as f:\n",
    "    pickle.dump(records, f)"
   ]
  },
  {
   "cell_type": "markdown",
   "id": "6248b094",
   "metadata": {},
   "source": [
    "# Qiskit versions"
   ]
  },
  {
   "cell_type": "code",
   "execution_count": 15,
   "id": "f1f82adf",
   "metadata": {},
   "outputs": [
    {
     "data": {
      "text/html": [
       "<h3>Version Information</h3><table><tr><th>Qiskit Software</th><th>Version</th></tr><tr><td><code>qiskit-terra</code></td><td>0.21.2</td></tr><tr><td><code>qiskit-aer</code></td><td>0.10.4</td></tr><tr><td><code>qiskit-ignis</code></td><td>0.6.0</td></tr><tr><td><code>qiskit-ibmq-provider</code></td><td>0.19.2</td></tr><tr><td><code>qiskit</code></td><td>0.37.2</td></tr><tr><td><code>qiskit-nature</code></td><td>0.4.5</td></tr><tr><td><code>qiskit-optimization</code></td><td>0.2.3</td></tr><tr><td><code>qiskit-machine-learning</code></td><td>0.2.1</td></tr><tr><th>System information</th></tr><tr><td>Python version</td><td>3.9.7</td></tr><tr><td>Python compiler</td><td>Clang 10.0.0 </td></tr><tr><td>Python build</td><td>default, Sep 16 2021 08:50:36</td></tr><tr><td>OS</td><td>Darwin</td></tr><tr><td>CPUs</td><td>4</td></tr><tr><td>Memory (Gb)</td><td>16.0</td></tr><tr><td colspan='2'>Wed Mar 08 13:59:21 2023 CET</td></tr></table>"
      ],
      "text/plain": [
       "<IPython.core.display.HTML object>"
      ]
     },
     "metadata": {},
     "output_type": "display_data"
    }
   ],
   "source": [
    "import qiskit.tools.jupyter\n",
    "%qiskit_version_table"
   ]
  }
 ],
 "metadata": {
  "kernelspec": {
   "display_name": "Python 3 (ipykernel)",
   "language": "python",
   "name": "python3"
  },
  "language_info": {
   "codemirror_mode": {
    "name": "ipython",
    "version": 3
   },
   "file_extension": ".py",
   "mimetype": "text/x-python",
   "name": "python",
   "nbconvert_exporter": "python",
   "pygments_lexer": "ipython3",
   "version": "3.9.7"
  }
 },
 "nbformat": 4,
 "nbformat_minor": 5
}
